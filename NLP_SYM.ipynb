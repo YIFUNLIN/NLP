{
 "cells": [
  {
   "cell_type": "code",
   "execution_count": 7,
   "metadata": {},
   "outputs": [],
   "source": [
    "import pandas as pd\n",
    "import numpy as np \n",
    "from nltk.tokenize import word_tokenize\n",
    "from nltk.corpus import stopwords       #語料庫\n",
    "from nltk import WordNetLemmatizer      #詞型還原，去掉贅詞\n",
    "from sklearn.preprocessing import LabelEncoder\n",
    "from nltk.corpus import wordnet as wn   #針對英語的詞彙資料庫，將詞彙組織成詞集（一組同義詞）並提供它們之間的詞彙關係\n",
    "from sklearn.feature_extraction.text import TfidfVectorizer\n",
    "from sklearn import model_selection,naive_bayes,svm\n",
    "from sklearn.metrics import accuracy_score\n",
    "\n",
    "\n"
   ]
  },
  {
   "attachments": {},
   "cell_type": "markdown",
   "metadata": {},
   "source": [
    "如果腳本保持一致，則每次運行都會重現相同的結果，否則每次運行都會產生不同的結果。種子可以設置為任意數字。"
   ]
  },
  {
   "attachments": {},
   "cell_type": "markdown",
   "metadata": {},
   "source": [
    "# STEP -2: Set random seed"
   ]
  },
  {
   "cell_type": "code",
   "execution_count": 8,
   "metadata": {},
   "outputs": [],
   "source": [
    "np.random.seed(500)"
   ]
  },
  {
   "attachments": {},
   "cell_type": "markdown",
   "metadata": {},
   "source": [
    "# STEP -3: Add the Corpus"
   ]
  },
  {
   "cell_type": "code",
   "execution_count": 9,
   "metadata": {},
   "outputs": [
    {
     "data": {
      "text/html": [
       "<div>\n",
       "<style scoped>\n",
       "    .dataframe tbody tr th:only-of-type {\n",
       "        vertical-align: middle;\n",
       "    }\n",
       "\n",
       "    .dataframe tbody tr th {\n",
       "        vertical-align: top;\n",
       "    }\n",
       "\n",
       "    .dataframe thead th {\n",
       "        text-align: right;\n",
       "    }\n",
       "</style>\n",
       "<table border=\"1\" class=\"dataframe\">\n",
       "  <thead>\n",
       "    <tr style=\"text-align: right;\">\n",
       "      <th></th>\n",
       "      <th>text</th>\n",
       "      <th>label</th>\n",
       "    </tr>\n",
       "  </thead>\n",
       "  <tbody>\n",
       "    <tr>\n",
       "      <th>0</th>\n",
       "      <td>Stuning even for the non-gamer: This sound tr...</td>\n",
       "      <td>__label__2</td>\n",
       "    </tr>\n",
       "    <tr>\n",
       "      <th>1</th>\n",
       "      <td>The best soundtrack ever to anything.: I'm re...</td>\n",
       "      <td>__label__2</td>\n",
       "    </tr>\n",
       "    <tr>\n",
       "      <th>2</th>\n",
       "      <td>Amazing!: This soundtrack is my favorite musi...</td>\n",
       "      <td>__label__2</td>\n",
       "    </tr>\n",
       "    <tr>\n",
       "      <th>3</th>\n",
       "      <td>Excellent Soundtrack: I truly like this sound...</td>\n",
       "      <td>__label__2</td>\n",
       "    </tr>\n",
       "    <tr>\n",
       "      <th>4</th>\n",
       "      <td>Remember, Pull Your Jaw Off The Floor After H...</td>\n",
       "      <td>__label__2</td>\n",
       "    </tr>\n",
       "    <tr>\n",
       "      <th>...</th>\n",
       "      <td>...</td>\n",
       "      <td>...</td>\n",
       "    </tr>\n",
       "    <tr>\n",
       "      <th>9995</th>\n",
       "      <td>A revelation of life in small town America in...</td>\n",
       "      <td>__label__2</td>\n",
       "    </tr>\n",
       "    <tr>\n",
       "      <th>9996</th>\n",
       "      <td>Great biography of a very interesting journal...</td>\n",
       "      <td>__label__2</td>\n",
       "    </tr>\n",
       "    <tr>\n",
       "      <th>9997</th>\n",
       "      <td>Interesting Subject; Poor Presentation: You'd...</td>\n",
       "      <td>__label__1</td>\n",
       "    </tr>\n",
       "    <tr>\n",
       "      <th>9998</th>\n",
       "      <td>Don't buy: The box looked used and it is obvi...</td>\n",
       "      <td>__label__1</td>\n",
       "    </tr>\n",
       "    <tr>\n",
       "      <th>9999</th>\n",
       "      <td>Beautiful Pen and Fast Delivery.: The pen was...</td>\n",
       "      <td>__label__2</td>\n",
       "    </tr>\n",
       "  </tbody>\n",
       "</table>\n",
       "<p>10000 rows × 2 columns</p>\n",
       "</div>"
      ],
      "text/plain": [
       "                                                   text        label\n",
       "0      Stuning even for the non-gamer: This sound tr...  __label__2 \n",
       "1      The best soundtrack ever to anything.: I'm re...  __label__2 \n",
       "2      Amazing!: This soundtrack is my favorite musi...  __label__2 \n",
       "3      Excellent Soundtrack: I truly like this sound...  __label__2 \n",
       "4      Remember, Pull Your Jaw Off The Floor After H...  __label__2 \n",
       "...                                                 ...          ...\n",
       "9995   A revelation of life in small town America in...  __label__2 \n",
       "9996   Great biography of a very interesting journal...  __label__2 \n",
       "9997   Interesting Subject; Poor Presentation: You'd...  __label__1 \n",
       "9998   Don't buy: The box looked used and it is obvi...  __label__1 \n",
       "9999   Beautiful Pen and Fast Delivery.: The pen was...  __label__2 \n",
       "\n",
       "[10000 rows x 2 columns]"
      ]
     },
     "execution_count": 9,
     "metadata": {},
     "output_type": "execute_result"
    }
   ],
   "source": [
    "df = pd.read_csv(r\"C:\\Users\\yifun\\Desktop\\python\\corpus.csv\",encoding='latin-1')\n",
    "df"
   ]
  },
  {
   "attachments": {},
   "cell_type": "markdown",
   "metadata": {},
   "source": [
    "# STEP -4: Data pre-processing"
   ]
  },
  {
   "cell_type": "code",
   "execution_count": 10,
   "metadata": {},
   "outputs": [
    {
     "data": {
      "text/html": [
       "<div>\n",
       "<style scoped>\n",
       "    .dataframe tbody tr th:only-of-type {\n",
       "        vertical-align: middle;\n",
       "    }\n",
       "\n",
       "    .dataframe tbody tr th {\n",
       "        vertical-align: top;\n",
       "    }\n",
       "\n",
       "    .dataframe thead th {\n",
       "        text-align: right;\n",
       "    }\n",
       "</style>\n",
       "<table border=\"1\" class=\"dataframe\">\n",
       "  <thead>\n",
       "    <tr style=\"text-align: right;\">\n",
       "      <th></th>\n",
       "      <th>text</th>\n",
       "      <th>label</th>\n",
       "    </tr>\n",
       "  </thead>\n",
       "  <tbody>\n",
       "    <tr>\n",
       "      <th>0</th>\n",
       "      <td>[stuning, even, for, the, non-gamer, :, this, ...</td>\n",
       "      <td>__label__2</td>\n",
       "    </tr>\n",
       "    <tr>\n",
       "      <th>1</th>\n",
       "      <td>[the, best, soundtrack, ever, to, anything, .,...</td>\n",
       "      <td>__label__2</td>\n",
       "    </tr>\n",
       "    <tr>\n",
       "      <th>2</th>\n",
       "      <td>[amazing, !, :, this, soundtrack, is, my, favo...</td>\n",
       "      <td>__label__2</td>\n",
       "    </tr>\n",
       "    <tr>\n",
       "      <th>3</th>\n",
       "      <td>[excellent, soundtrack, :, i, truly, like, thi...</td>\n",
       "      <td>__label__2</td>\n",
       "    </tr>\n",
       "    <tr>\n",
       "      <th>4</th>\n",
       "      <td>[remember, ,, pull, your, jaw, off, the, floor...</td>\n",
       "      <td>__label__2</td>\n",
       "    </tr>\n",
       "    <tr>\n",
       "      <th>...</th>\n",
       "      <td>...</td>\n",
       "      <td>...</td>\n",
       "    </tr>\n",
       "    <tr>\n",
       "      <th>9995</th>\n",
       "      <td>[a, revelation, of, life, in, small, town, ame...</td>\n",
       "      <td>__label__2</td>\n",
       "    </tr>\n",
       "    <tr>\n",
       "      <th>9996</th>\n",
       "      <td>[great, biography, of, a, very, interesting, j...</td>\n",
       "      <td>__label__2</td>\n",
       "    </tr>\n",
       "    <tr>\n",
       "      <th>9997</th>\n",
       "      <td>[interesting, subject, ;, poor, presentation, ...</td>\n",
       "      <td>__label__1</td>\n",
       "    </tr>\n",
       "    <tr>\n",
       "      <th>9998</th>\n",
       "      <td>[do, n't, buy, :, the, box, looked, used, and,...</td>\n",
       "      <td>__label__1</td>\n",
       "    </tr>\n",
       "    <tr>\n",
       "      <th>9999</th>\n",
       "      <td>[beautiful, pen, and, fast, delivery, ., :, th...</td>\n",
       "      <td>__label__2</td>\n",
       "    </tr>\n",
       "  </tbody>\n",
       "</table>\n",
       "<p>10000 rows × 2 columns</p>\n",
       "</div>"
      ],
      "text/plain": [
       "                                                   text        label\n",
       "0     [stuning, even, for, the, non-gamer, :, this, ...  __label__2 \n",
       "1     [the, best, soundtrack, ever, to, anything, .,...  __label__2 \n",
       "2     [amazing, !, :, this, soundtrack, is, my, favo...  __label__2 \n",
       "3     [excellent, soundtrack, :, i, truly, like, thi...  __label__2 \n",
       "4     [remember, ,, pull, your, jaw, off, the, floor...  __label__2 \n",
       "...                                                 ...          ...\n",
       "9995  [a, revelation, of, life, in, small, town, ame...  __label__2 \n",
       "9996  [great, biography, of, a, very, interesting, j...  __label__2 \n",
       "9997  [interesting, subject, ;, poor, presentation, ...  __label__1 \n",
       "9998  [do, n't, buy, :, the, box, looked, used, and,...  __label__1 \n",
       "9999  [beautiful, pen, and, fast, delivery, ., :, th...  __label__2 \n",
       "\n",
       "[10000 rows x 2 columns]"
      ]
     },
     "execution_count": 10,
     "metadata": {},
     "output_type": "execute_result"
    }
   ],
   "source": [
    "df['text'].dropna(inplace=True)     #移除空的列\n",
    "df['text'] = [i.lower() for i in df['text']]   #將每列的字都變成小寫\n",
    "df['text'] = [word_tokenize(i) for i in df['text']]   #Tokenization: 將每個字做分詞化(各自變成一個單字)\n",
    "df  "
   ]
  },
  {
   "cell_type": "code",
   "execution_count": 11,
   "metadata": {},
   "outputs": [
    {
     "data": {
      "text/plain": [
       "\"\\nfrom collections import defaultdict\\nfrom nltk.corpus import wordnet as wn\\n\\ntag_map = defaultdict(lambda: wn.NOUN)    #建立一個字典，目的是將詞性標記（Part-of-Speech tags）映射到 WordNet 中對應的詞性類別。\\n                                          #預設情況下，tag_map 的預設值被設置為 wn.NOUN，表示詞性標記沒有被明確指定時，預設為名詞（Noun）。\\ntag_map['J'] = wn.ADJ\\ntag_map['V'] = wn.VERB\\ntag_map['R'] = wn.ADV\\n\\nword = 'run'\\ntag = 'V'  # Verb tag\\n\\nsynsets = wn.synsets(word, tag_map[tag])   #把這個字加進去並標註詞性\\nfor synset in synsets:\\n    print(synset.name(), synset.definition())\\n\\n>>run.v.01 move fast by using one's feet, with one foot off the ground at any given time\\nscat.v.01 flee; take to one's heels; cut and run\\nrun.v.03 stretch out over a distance, space, time, or scope; run or extend between two points or beyond a certain point\\noperate.v.01 direct or control; projects, businesses, etc.\\nrun.v.05 have a particular form\\nrun.v.06 move along, of liquids\\nfunction.v.01 perform as expected when applied\\nrange.v.01 change or be different within limits\\ncampaign.v.01 run, stand, or compete for an office or a position\\nplay.v.18 cause to emit recorded audio or video\\nrun.v.11 move about freely and without restraint, or act as if running around in an uncontrolled way\\ntend.v.01 have a tendency or disposition to do or be something; be inclined\\nrun.v.13 be operating, running or functioning\\nrun.v.14 change from one state to another\\nrun.v.15 cause to perform\\nrun.v.16 be affected by; be subjected to\\nprevail.v.03 continue to exist\\nrun.v.18 occur persistently\\nrun.v.19 carry out a process or program, as on a computer or a machine\\ncarry.v.15 include as the content; broadcast or publicize\\nrun.v.21 carry out\\n.\\n.\\n.\\n\""
      ]
     },
     "execution_count": 11,
     "metadata": {},
     "output_type": "execute_result"
    }
   ],
   "source": [
    "#wordnet 使用範例\n",
    "'''\n",
    "from collections import defaultdict\n",
    "from nltk.corpus import wordnet as wn\n",
    "\n",
    "tag_map = defaultdict(lambda: wn.NOUN)    #建立一個字典，目的是將詞性標記（Part-of-Speech tags）映射到 WordNet 中對應的詞性類別。\n",
    "                                          #預設情況下，tag_map 的預設值被設置為 wn.NOUN，表示詞性標記沒有被明確指定時，預設為名詞（Noun）。\n",
    "tag_map['J'] = wn.ADJ\n",
    "tag_map['V'] = wn.VERB\n",
    "tag_map['R'] = wn.ADV\n",
    "\n",
    "word = 'run'\n",
    "tag = 'V'  # Verb tag\n",
    "\n",
    "synsets = wn.synsets(word, tag_map[tag])   #把這個字加進去並標註詞性\n",
    "for synset in synsets:\n",
    "    print(synset.name(), synset.definition())\n",
    "\n",
    ">>run.v.01 move fast by using one's feet, with one foot off the ground at any given time\n",
    "scat.v.01 flee; take to one's heels; cut and run\n",
    "run.v.03 stretch out over a distance, space, time, or scope; run or extend between two points or beyond a certain point\n",
    "operate.v.01 direct or control; projects, businesses, etc.\n",
    "run.v.05 have a particular form\n",
    "run.v.06 move along, of liquids\n",
    "function.v.01 perform as expected when applied\n",
    "range.v.01 change or be different within limits\n",
    "campaign.v.01 run, stand, or compete for an office or a position\n",
    "play.v.18 cause to emit recorded audio or video\n",
    "run.v.11 move about freely and without restraint, or act as if running around in an uncontrolled way\n",
    "tend.v.01 have a tendency or disposition to do or be something; be inclined\n",
    "run.v.13 be operating, running or functioning\n",
    "run.v.14 change from one state to another\n",
    "run.v.15 cause to perform\n",
    "run.v.16 be affected by; be subjected to\n",
    "prevail.v.03 continue to exist\n",
    "run.v.18 occur persistently\n",
    "run.v.19 carry out a process or program, as on a computer or a machine\n",
    "carry.v.15 include as the content; broadcast or publicize\n",
    "run.v.21 carry out\n",
    ".\n",
    ".\n",
    ".\n",
    "'''"
   ]
  },
  {
   "cell_type": "code",
   "execution_count": 12,
   "metadata": {},
   "outputs": [],
   "source": [
    "from nltk import pos_tag   #詞性標籤(part-of-speech tagging)，對單詞的詞性進行標記，標記後的結果是二元數組格式\n",
    "from collections import defaultdict\n",
    "tag_map = defaultdict(lambda : wn.NOUN)\n",
    "tag_map['J'] = wn.ADJ\n",
    "tag_map['V'] = wn.VERB\n",
    "tag_map['R'] = wn.ADV\n",
    "\n",
    "for index,entry in enumerate(df['text']):   # 於將一個可遍歷的數據對象(如列表、元組或字符串)組合為一個索引序列\n",
    "    Final_words = []\n",
    "    word_Lemmatized = WordNetLemmatizer()    #建立WordNetLemmatizer物件，對詞彙進行詞幹還原\n",
    "    for word,tag in pos_tag(entry):          #循環遍歷每個單詞及其對應的詞性標籤，從pos_tag(entry)獲取\n",
    "        if word not in stopwords.words('english') and word.isalpha():   #檢查該單詞是否不在常用英文停用詞列表中（停用詞是NLP常過濾掉的常用詞），且是否僅包含字母\n",
    "            word_Final = word_Lemmatized.lemmatize(word,tag_map[tag[0]]) #若條件滿足，使用WordNetLemmatizer物件和tag_map(字典)中對應的詞性標籤對單詞進行詞幹還原\n",
    "                                                                         #(只有單字詞性標籤是ADJ、VERB、ADV 才會使用相應的詞性標籤進行詞幹還原)\n",
    "                                                                         #tag[0]的目的是獲取詞性標籤的第一個字母，以便將其用於tag_map字典中查找相應的WordNet詞性標籤\n",
    "            Final_words.append(word_Final)\n",
    "    df.loc[index,'text_final'] = str(Final_words)    #將Final_words 轉成str 並存於dataframe中"
   ]
  },
  {
   "cell_type": "code",
   "execution_count": 13,
   "metadata": {},
   "outputs": [
    {
     "data": {
      "text/html": [
       "<div>\n",
       "<style scoped>\n",
       "    .dataframe tbody tr th:only-of-type {\n",
       "        vertical-align: middle;\n",
       "    }\n",
       "\n",
       "    .dataframe tbody tr th {\n",
       "        vertical-align: top;\n",
       "    }\n",
       "\n",
       "    .dataframe thead th {\n",
       "        text-align: right;\n",
       "    }\n",
       "</style>\n",
       "<table border=\"1\" class=\"dataframe\">\n",
       "  <thead>\n",
       "    <tr style=\"text-align: right;\">\n",
       "      <th></th>\n",
       "      <th>text</th>\n",
       "      <th>label</th>\n",
       "      <th>text_final</th>\n",
       "    </tr>\n",
       "  </thead>\n",
       "  <tbody>\n",
       "    <tr>\n",
       "      <th>0</th>\n",
       "      <td>[stuning, even, for, the, non-gamer, :, this, ...</td>\n",
       "      <td>__label__2</td>\n",
       "      <td>['stun', 'even', 'sound', 'track', 'beautiful'...</td>\n",
       "    </tr>\n",
       "    <tr>\n",
       "      <th>1</th>\n",
       "      <td>[the, best, soundtrack, ever, to, anything, .,...</td>\n",
       "      <td>__label__2</td>\n",
       "      <td>['best', 'soundtrack', 'ever', 'anything', 're...</td>\n",
       "    </tr>\n",
       "    <tr>\n",
       "      <th>2</th>\n",
       "      <td>[amazing, !, :, this, soundtrack, is, my, favo...</td>\n",
       "      <td>__label__2</td>\n",
       "      <td>['amaze', 'soundtrack', 'favorite', 'music', '...</td>\n",
       "    </tr>\n",
       "    <tr>\n",
       "      <th>3</th>\n",
       "      <td>[excellent, soundtrack, :, i, truly, like, thi...</td>\n",
       "      <td>__label__2</td>\n",
       "      <td>['excellent', 'soundtrack', 'truly', 'like', '...</td>\n",
       "    </tr>\n",
       "    <tr>\n",
       "      <th>4</th>\n",
       "      <td>[remember, ,, pull, your, jaw, off, the, floor...</td>\n",
       "      <td>__label__2</td>\n",
       "      <td>['remember', 'pull', 'jaw', 'floor', 'hear', '...</td>\n",
       "    </tr>\n",
       "    <tr>\n",
       "      <th>...</th>\n",
       "      <td>...</td>\n",
       "      <td>...</td>\n",
       "      <td>...</td>\n",
       "    </tr>\n",
       "    <tr>\n",
       "      <th>9995</th>\n",
       "      <td>[a, revelation, of, life, in, small, town, ame...</td>\n",
       "      <td>__label__2</td>\n",
       "      <td>['revelation', 'life', 'small', 'town', 'ameri...</td>\n",
       "    </tr>\n",
       "    <tr>\n",
       "      <th>9996</th>\n",
       "      <td>[great, biography, of, a, very, interesting, j...</td>\n",
       "      <td>__label__2</td>\n",
       "      <td>['great', 'biography', 'interesting', 'journal...</td>\n",
       "    </tr>\n",
       "    <tr>\n",
       "      <th>9997</th>\n",
       "      <td>[interesting, subject, ;, poor, presentation, ...</td>\n",
       "      <td>__label__1</td>\n",
       "      <td>['interest', 'subject', 'poor', 'presentation'...</td>\n",
       "    </tr>\n",
       "    <tr>\n",
       "      <th>9998</th>\n",
       "      <td>[do, n't, buy, :, the, box, looked, used, and,...</td>\n",
       "      <td>__label__1</td>\n",
       "      <td>['buy', 'box', 'look', 'use', 'obviously', 'ne...</td>\n",
       "    </tr>\n",
       "    <tr>\n",
       "      <th>9999</th>\n",
       "      <td>[beautiful, pen, and, fast, delivery, ., :, th...</td>\n",
       "      <td>__label__2</td>\n",
       "      <td>['beautiful', 'pen', 'fast', 'delivery', 'pen'...</td>\n",
       "    </tr>\n",
       "  </tbody>\n",
       "</table>\n",
       "<p>10000 rows × 3 columns</p>\n",
       "</div>"
      ],
      "text/plain": [
       "                                                   text        label  \\\n",
       "0     [stuning, even, for, the, non-gamer, :, this, ...  __label__2    \n",
       "1     [the, best, soundtrack, ever, to, anything, .,...  __label__2    \n",
       "2     [amazing, !, :, this, soundtrack, is, my, favo...  __label__2    \n",
       "3     [excellent, soundtrack, :, i, truly, like, thi...  __label__2    \n",
       "4     [remember, ,, pull, your, jaw, off, the, floor...  __label__2    \n",
       "...                                                 ...          ...   \n",
       "9995  [a, revelation, of, life, in, small, town, ame...  __label__2    \n",
       "9996  [great, biography, of, a, very, interesting, j...  __label__2    \n",
       "9997  [interesting, subject, ;, poor, presentation, ...  __label__1    \n",
       "9998  [do, n't, buy, :, the, box, looked, used, and,...  __label__1    \n",
       "9999  [beautiful, pen, and, fast, delivery, ., :, th...  __label__2    \n",
       "\n",
       "                                             text_final  \n",
       "0     ['stun', 'even', 'sound', 'track', 'beautiful'...  \n",
       "1     ['best', 'soundtrack', 'ever', 'anything', 're...  \n",
       "2     ['amaze', 'soundtrack', 'favorite', 'music', '...  \n",
       "3     ['excellent', 'soundtrack', 'truly', 'like', '...  \n",
       "4     ['remember', 'pull', 'jaw', 'floor', 'hear', '...  \n",
       "...                                                 ...  \n",
       "9995  ['revelation', 'life', 'small', 'town', 'ameri...  \n",
       "9996  ['great', 'biography', 'interesting', 'journal...  \n",
       "9997  ['interest', 'subject', 'poor', 'presentation'...  \n",
       "9998  ['buy', 'box', 'look', 'use', 'obviously', 'ne...  \n",
       "9999  ['beautiful', 'pen', 'fast', 'delivery', 'pen'...  \n",
       "\n",
       "[10000 rows x 3 columns]"
      ]
     },
     "execution_count": 13,
     "metadata": {},
     "output_type": "execute_result"
    }
   ],
   "source": [
    "df"
   ]
  },
  {
   "attachments": {},
   "cell_type": "markdown",
   "metadata": {},
   "source": [
    "# STEP -5: Prepare Train and Test Data sets"
   ]
  },
  {
   "cell_type": "code",
   "execution_count": 14,
   "metadata": {},
   "outputs": [],
   "source": [
    "Train_X, Test_X, Train_Y, Test_Y = model_selection.train_test_split(df['text_final'],df['label'],test_size=0.3)  \n",
    "                                                                      #特徵數據        #目標(標籤數據)"
   ]
  },
  {
   "attachments": {},
   "cell_type": "markdown",
   "metadata": {},
   "source": [
    "# STEP -6: Encoding"
   ]
  },
  {
   "cell_type": "code",
   "execution_count": 15,
   "metadata": {},
   "outputs": [],
   "source": [
    "Encoder = LabelEncoder()\n",
    "Train_Y = Encoder.fit_transform(Train_Y)   #對目標變量進行編碼，將字串轉成數值\n",
    "Test_Y = Encoder.fit_transform(Test_Y)"
   ]
  },
  {
   "attachments": {},
   "cell_type": "markdown",
   "metadata": {},
   "source": [
    "# STEP -7: Word Vectorization"
   ]
  },
  {
   "cell_type": "code",
   "execution_count": 16,
   "metadata": {},
   "outputs": [],
   "source": [
    "Tfidf_vect = TfidfVectorizer(max_features=5000)    #Term Frequency - Inverse Document Frequency (詞頻/逆向文件頻率)  反映出文字對於文件的重要性，建立一個只選擇最常見的 5000 個單詞作為特徵的模型\n",
    "Tfidf_vect.fit(df['text_final'])                #丟入資料進入模型中，將文本轉成向量\n",
    "Train_X_Tfidf = Tfidf_vect.transform(Train_X)  #將 Train_X 中的每個文本句子轉換為 TF-IDF 特徵向量。每個特徵向量都表示了該句子中每個單詞的 TF-IDF 權重\n",
    "Test_X_Tfidf = Tfidf_vect.transform(Test_X)\n",
    "\n",
    "#將文本數據轉換為數值特徵表示，以便於機器學習模型進行訓練。轉換後的特徵向量可以作為輸入餵給機器學習模型進行訓練，\n",
    "# 從而將文本數據與標籤關聯起來，並學習出預測模型。"
   ]
  },
  {
   "cell_type": "code",
   "execution_count": 17,
   "metadata": {},
   "outputs": [
    {
     "name": "stdout",
     "output_type": "stream",
     "text": [
      "{'stun': 4278, 'even': 1528, 'sound': 4127, 'track': 4558, 'beautiful': 379, 'paint': 3160, 'mind': 2838, 'well': 4868, 'would': 4952, 'recomend': 3605, 'people': 3230, 'hate': 2053, 'video': 4769, 'game': 1874, 'music': 2925, 'play': 3305, 'cross': 1028, 'ever': 1532, 'best': 419, 'back': 321, 'away': 311, 'crude': 1031, 'take': 4370, 'fresh': 1832, 'step': 4217, 'guitar': 2009, 'orchestra': 3098, 'impress': 2242, 'anyone': 198, 'care': 636, 'listen': 2612, 'soundtrack': 4128, 'anything': 199, 'read': 3571, 'lot': 2656, 'review': 3726, 'say': 3844, 'figure': 1701, 'write': 4958, 'disagree': 1228, 'bit': 441, 'ultimate': 4635, 'masterpiece': 2751, 'timeless': 4502, 'year': 4977, 'beauty': 381, 'simply': 4021, 'refuse': 3629, 'price': 3414, 'tag': 4369, 'pretty': 3409, 'must': 2931, 'go': 1936, 'buy': 593, 'cd': 669, 'much': 2916, 'money': 2875, 'one': 3077, 'feel': 1677, 'worth': 4948, 'every': 1534, 'penny': 3229, 'amaze': 147, 'favorite': 1665, 'time': 4501, 'hand': 2026, 'intense': 2330, 'sadness': 3813, 'prisoner': 3428, 'fate': 1660, 'mean': 2768, 'hope': 2150, 'distant': 1267, 'promise': 3455, 'girl': 1920, 'steal': 4211, 'star': 4198, 'important': 2239, 'inspiration': 2306, 'personally': 3248, 'throughout': 4483, 'teen': 4401, 'high': 2108, 'energy': 1467, 'like': 2588, 'trigger': 4594, 'absolutely': 7, 'superb': 4317, 'amazing': 148, 'probably': 3433, 'composer': 880, 'work': 4937, 'hear': 2070, 'ca': 598, 'sure': 4329, 'never': 2976, 'twice': 4622, 'wish': 4917, 'could': 977, 'give': 1922, 'excellent': 1559, 'truly': 4606, 'enjoy': 1477, 'disk': 1254, 'scar': 3849, 'life': 2578, 'death': 1097, 'ancient': 167, 'dragon': 1316, 'lose': 2652, 'drown': 1337, 'two': 4626, 'home': 2140, 'girlfriend': 1921, 'three': 4479, 'garden': 1884, 'god': 1938, 'sea': 3889, 'burn': 583, 'prayer': 3381, 'tower': 4553, 'radical': 3534, 'bring': 541, 'remember': 3665, 'pull': 3486, 'jaw': 2402, 'floor': 1757, 'know': 2479, 'single': 4030, 'song': 4109, 'tell': 4406, 'story': 4244, 'good': 1944, 'great': 1977, 'without': 4921, 'doubt': 1304, 'magical': 2694, 'wind': 4904, 'jewel': 2416, 'translation': 4573, 'perfect': 3235, 'ask': 256, 'pour': 3368, 'heart': 2073, 'paper': 3171, 'absolute': 6, 'quite': 3522, 'actually': 46, 'least': 2545, 'heard': 2071, 'whether': 4879, 'aware': 310, 'contribute': 940, 'greatly': 1978, 'mood': 2885, 'minute': 2847, 'whole': 4886, 'exact': 1549, 'count': 979, 'remarkable': 3663, 'assure': 268, 'forget': 1790, 'everything': 1538, 'listener': 2614, 'dance': 1070, 'slow': 4068, 'haunting': 2056, 'purely': 3496, 'beautifully': 380, 'compose': 879, 'fantastic': 1647, 'vocal': 4800, 'surely': 4330, 'buyer': 594, 'beware': 422, 'book': 485, 'want': 4821, 'paragraph': 3178, 'family': 1642, 'friend': 1836, 'perhaps': 3241, 'imagine': 2227, 'thing': 4463, 'spend': 4156, 'evening': 1529, 'piece': 3276, 'another': 188, 'definitely': 1126, 'bad': 326, 'enough': 1482, 'enter': 1484, 'kind': 2465, 'contest': 932, 'believe': 399, 'amazon': 150, 'sell': 3915, 'maybe': 2762, 'offer': 3063, 'grade': 1959, 'term': 4422, 'kill': 2462, 'anyway': 201, 'unless': 4681, 'send': 3917, 'someone': 4102, 'joke': 2429, 'far': 1649, 'glorious': 1930, 'love': 2661, 'wicked': 4889, 'saint': 3817, 'pleasantly': 3312, 'surprise': 4336, 'change': 695, 'romance': 3774, 'novel': 3029, 'world': 4942, 'rave': 3566, 'brilliant': 539, 'true': 4604, 'wonderful': 4930, 'typical': 4628, 'crime': 1016, 'becuase': 384, 'miss': 2855, 'warm': 4824, 'five': 1736, 'finish': 1717, 'fell': 1680, 'expect': 1583, 'average': 304, 'instead': 2317, 'find': 1713, 'think': 4464, 'predict': 3388, 'outcome': 3120, 'shock': 3983, 'descriptive': 1168, 'break': 523, 'julia': 2438, 'felt': 1683, 'reader': 3573, 'lover': 2665, 'let': 2566, 'cover': 990, 'fool': 1780, 'spectacular': 4151, 'easy': 1387, 'make': 2703, 'keep': 2453, 'reading': 3575, 'put': 3503, 'leave': 2547, 'follow': 1774, 'come': 835, 'soon': 4113, 'use': 4716, 'get': 1911, 'enjoyable': 1478, 'complete': 871, 'waste': 4839, 'error': 1509, 'poor': 3338, 'grammar': 1964, 'totally': 4543, 'pathetic': 3205, 'plot': 3317, 'add': 53, 'nothing': 3024, 'embarrass': 1441, 'author': 296, 'disappointed': 1232, 'pay': 3214, 'fast': 1656, 'boy': 510, 'twist': 4624, 'turn': 4615, 'guess': 2002, 'happen': 2032, 'next': 2984, 'fall': 1638, 'heat': 2075, 'also': 136, 'several': 3945, 'emotion': 1446, 'quick': 3515, 'something': 4103, 'end': 1462, 'day': 1088, 'night': 2993, 'yet': 4985, 'realistic': 3580, 'show': 3994, 'human': 2182, 'fact': 1623, 'writer': 4960, 'loving': 2666, 'side': 4002, 'glass': 1925, 'castle': 656, 'oh': 3069, 'please': 3313, 'others': 3115, 'drivel': 1334, 'trouble': 4602, 'typo': 4630, 'feature': 1669, 'first': 1728, 'page': 3156, 'remove': 3673, 'wait': 4812, 'point': 3326, 'beginning': 392, 'clear': 786, 'intentional': 2333, 'prose': 3469, 'purpose': 3499, 'glad': 1923, 'awful': 314, 'beyond': 423, 'belief': 397, 'seem': 3907, 'grader': 1960, 'skill': 4048, 'age': 95, 'reviewer': 3727, 'per': 3232, 'chapter': 698, 'example': 1554, 'mention': 2801, 'lean': 2541, 'house': 2171, 'distract': 1270, 'writing': 4961, 'weak': 4850, 'decide': 1106, 'pencil': 3227, 'mark': 2731, 'horrible': 2156, 'relative': 3647, 'faith': 1635, 'try': 4609, 'fake': 1637, 'obvious': 3048, 'glow': 1933, 'person': 3245, 'sentence': 3925, 'structure': 4270, 'romantic': 3775, 'zen': 4994, 'baseball': 349, 'comedy': 837, 'folk': 1773, 'anymore': 197, 'might': 2826, 'talk': 4374, 'cool': 959, 'young': 4990, 'search': 3893, 'stumble': 4277, 'resort': 3703, 'kitchen': 2472, 'gig': 1918, 'motorcycle': 2903, 'man': 2709, 'italian': 2382, 'right': 3747, 'team': 4392, 'owner': 3148, 'often': 3068, 'case': 651, 'honest': 2143, 'comical': 844, 'always': 144, 'emotional': 1447, 'interaction': 2335, 'player': 3308, 'mix': 2860, 'special': 4145, 'effect': 1408, 'salsa': 3820, 'big': 427, 'compression': 885, 'stocking': 4235, 'doctor': 1281, 'require': 3694, 'wear': 4854, 'ugly': 4633, 'white': 4883, 'hose': 2163, 'thick': 4459, 'brown': 550, 'jobst': 2423, 'need': 2963, 'look': 2646, 'regular': 3637, 'though': 4473, 'blood': 462, 'still': 4228, 'support': 4324, 'leg': 2551, 'nice': 2985, 'note': 3023, 'problem': 3435, 'top': 4533, 'roll': 3770, 'thigh': 4461, 'hat': 2052, 'skin': 4050, 'inexpensive': 2280, 'belt': 408, 'fine': 1715, 'help': 2088, 'product': 3441, 'however': 2175, 'difficult': 1213, 'old': 3073, 'full': 1852, 'workout': 4941, 'begin': 389, 'create': 1006, 'deep': 1114, 'difficulty': 1214, 'address': 59, 'size': 4042, 'recomended': 3606, 'chart': 709, 'real': 3577, 'small': 4070, 'sheer': 3968, 'item': 2384, 'internet': 2343, 'store': 4241, 'check': 716, 'men': 2797, 'model': 2866, 'may': 2761, 'ok': 3071, 'type': 4627, 'active': 41, 'around': 235, 'alot': 131, 'job': 2422, 'consistently': 919, 'found': 1807, 'ankle': 179, 'solution': 4097, 'standard': 4195, 'stock': 4234, 'stay': 4210, 'pair': 3162, 'tear': 4393, 'struggle': 4271, 'investment': 2364, 'delicious': 1139, 'cookie': 957, 'funny': 1861, 'quickly': 3516, 'package': 3153, 'notice': 3025, 'since': 4024, 'convenience': 946, 'wrap': 4955, 'plastic': 3301, 'log': 2635, 'messy': 2811, 'extremely': 1615, 'sticky': 4226, 'ingredient': 2290, 'extra': 1611, 'butter': 591, 'really': 3583, 'large': 2511, 'chocolate': 736, 'chip': 734, 'addition': 57, 'flavor': 1743, 'digital': 1216, 'copy': 961, 'rather': 3563, 'scratch': 3878, 'random': 3548, 'combine': 833, 'light': 2582, 'vague': 4731, 'image': 2223, 'resolution': 3700, 'packaging': 3154, 'straight': 4248, 'street': 4258, 'corner': 965, 'bootleg': 490, 'see': 3905, 'reasonably': 3588, 'condition': 898, 'film': 1705, 'define': 1123, 'visuals': 4795, 'crystal': 1035, 'contrast': 939, 'black': 445, 'surround': 4342, 'countryside': 983, 'scene': 3857, 'set': 3940, 'early': 1377, 'morning': 2892, 'ground': 1994, 'memory': 2796, 'event': 1530, 'bridge': 535, 'water': 4844, 'bright': 538, 'dull': 1355, 'dark': 1077, 'cloud': 806, 'captain': 627, 'command': 845, 'hard': 2038, 'award': 309, 'acclaim': 23, 'presentation': 3402, 'youtube': 4992, 'somewhere': 4107, 'dvd': 1366, 'public': 3482, 'library': 2574, 'none': 3010, 'appear': 212, 'fascinating': 1654, 'insight': 2302, 'modern': 2867, 'japanese': 2398, 'thoroughly': 4471, 'rise': 3751, 'son': 4108, 'daughter': 1084, 'society': 4088, 'view': 4770, 'parent': 3183, 'culture': 1040, 'community': 855, 'western': 4870, 'form': 1792, 'new': 2978, 'japan': 2397, 'international': 2342, 'blend': 455, 'demonstrate': 1151, 'private': 3430, 'member': 2793, 'steven': 4222, 'clearly': 787, 'talented': 4373, 'adopt': 68, 'school': 3864, 'four': 1809, 'thus': 4487, 'able': 3, 'inside': 2301, 'album': 117, 'thought': 4474, 'blue': 466, 'angel': 171, 'hair': 2019, 'singer': 4028, 'talent': 4372, 'charge': 702, 'charger': 703, 'aa': 0, 'battery': 364, 'huge': 2180, 'secure': 3902, 'flip': 1755, 'little': 2622, 'button': 592, 'positive': 3355, 'pop': 3340, 'wo': 4925, 'hold': 2130, 'mechanism': 2777, 'become': 383, 'loose': 2648, 'pressure': 3406, 'push': 3502, 'tape': 4380, 'segment': 3910, 'apply': 217, 'painful': 3158, 'advertised': 78, 'instruction': 2318, 'dont': 1298, 'do': 1279, 'hour': 2170, 'return': 3720, 'useless': 4719, 'backup': 325, 'manage': 2710, 'drain': 1317, 'purchase': 3494, 'convenient': 947, 'last': 2515, 'short': 3989, 'long': 2644, 'dear': 1096, 'excite': 1567, 'muslim': 2930, 'volume': 4803, 'live': 2623, 'essay': 1513, 'among': 156, 'describe': 1165, 'explain': 1594, 'woman': 4928, 'cape': 625, 'town': 4554, 'claim': 769, 'separate': 3927, 'equal': 1500, 'hop': 2149, 'feminist': 1686, 'surprised': 4337, 'female': 1684, 'base': 348, 'christmas': 749, 'present': 3401, 'join': 2427, 'rest': 3710, 'vhs': 4759, 'movie': 2911, 'tv': 4620, 'choice': 737, 'agree': 99, 'awkward': 316, 'selection': 3913, 'option': 3096, 'hang': 2031, 'comment': 846, 'complicated': 876, 'many': 2722, 'remote': 3670, 'rely': 3658, 'heavily': 2079, 'manual': 2719, 'vcr': 4744, 'timer': 4504, 'start': 4203, 'scroll': 3886, 'complaint': 870, 'incorrect': 2264, 'disc': 1236, 'fan': 1644, 'saw': 3842, 'unit': 4675, 'section': 3901, 'happy': 2037, 'click': 791, 'receiver': 3596, 'transition': 4571, 'smooth': 4077, 'pause': 3213, 'fairly': 1633, 'message': 2810, 'nut': 3039, 'television': 4405, 'bookshelf': 487, 'audio': 287, 'system': 4363, 'car': 632, 'move': 2909, 'room': 3779, 'combo': 834, 'except': 1560, 'cable': 600, 'box': 507, 'control': 943, 'input': 2298, 'programming': 3451, 'mono': 2878, 'wife': 4895, 'difference': 1210, 'title': 4515, 'hollywood': 2136, 'ridiculous': 3744, 'wonder': 4929, 'script': 3884, 'mountain': 2906, 'lion': 2606, 'trailer': 4565, 'behind': 395, 'capture': 631, 'jail': 2392, 'cell': 674, 'utterly': 4728, 'completely': 872, 'stupid': 4281, 'bet': 420, 'hotel': 2168, 'incredible': 2266, 'act': 38, 'bbc': 369, 'soap': 4084, 'max': 2760, 'mariah': 2727, 'drama': 1318, 'series': 3933, 'opera': 3085, 'air': 105, 'america': 152, 'episode': 1498, 'season': 3894, 'finale': 1709, 'interesting': 2338, 'remind': 3666, 'reason': 3586, 'fictional': 1692, 'san': 3825, 'francisco': 1817, 'recommend': 3607, 'willing': 4901, 'watch': 4841, 'already': 134, 'law': 2527, 'seriously': 3935, 'unfortunately': 4666, 'entertain': 1485, 'order': 3099, 'hip': 2118, 'daddy': 1063, 'vibe': 4761, 'fourth': 1810, 'class': 776, 'main': 2697, 'playing': 3309, 'voice': 4801, 'party': 3192, 'anywhere': 203, 'neighborhood': 2969, 'laugh': 2521, 'beach': 372, 'grow': 1996, 'surfer': 4333, 'southern': 4132, 'california': 603, 'brother': 549, 'honestly': 2144, 'kinda': 2466, 'surf': 4331, 'hell': 2086, 'moral': 2889, 'aspect': 258, 'american': 153, 'explanation': 1595, 'simple': 4017, 'focus': 1771, 'individual': 2276, 'ignore': 2212, 'personal': 3246, 'responsibility': 3708, 'final': 1708, 'response': 3707, 'robert': 3760, 'seller': 3916, 'disgust': 1250, 'state': 4205, 'medium': 2783, 'politics': 3334, 'general': 1895, 'head': 2062, 'substantial': 4290, 'challenge': 691, 'lie': 2577, 'being': 396, 'larry': 2513, 'label': 2489, 'late': 2516, 'explore': 1598, 'rich': 3738, 'catalog': 659, 'jazz': 2405, 'musician': 2927, 'stand': 4194, 'mile': 2831, 'mac': 2683, 'line': 2602, 'windows': 4906, 'frustrating': 1848, 'excited': 1568, 'attempt': 277, 'touch': 4544, 'mouse': 2907, 'arrow': 240, 'keyboard': 2459, 'fun': 1854, 'disapointed': 1229, 'attention': 279, 'level': 2569, 'rescue': 3696, 'hero': 2097, 'dog': 1286, 'former': 1796, 'repeatedly': 3681, 'recipe': 3602, 'throw': 4484, 'cup': 1042, 'nearly': 2958, 'compare': 860, 'ed': 1396, 'wood': 4933, 'flawlessly': 1746, 'lisa': 2610, 'wild': 4897, 'bread': 522, 'novice': 3031, 'place': 3293, 'reliable': 3653, 'concise': 895, 'information': 2287, 'maintain': 2700, 'fabulous': 1620, 'pass': 3194, 'historical': 2122, 'interest': 2336, 'warrant': 4831, 'cost': 972, 'alaska': 114, 'visit': 4791, 'starter': 4204, 'collection': 824, 'advise': 82, 'ruth': 3806, 'picture': 3274, 'past': 3199, 'ago': 98, 'mixer': 2862, 'stuff': 4276, 'pot': 3364, 'close': 799, 'download': 1308, 'decade': 1102, 'background': 323, 'hunt': 2190, 'melody': 2791, 'english': 1474, 'lyric': 2680, 'else': 1434, 'via': 4760, 'happily': 2035, 'ipod': 2369, 'experience': 1588, 'fm': 1769, 'rattle': 3565, 'sometimes': 4105, 'quality': 3505, 'screen': 3880, 'thru': 4485, 'middle': 2824, 'plus': 3319, 'dead': 1091, 'layout': 2530, 'sense': 3920, 'engineering': 1472, 'imo': 2233, 'refund': 3628, 'name': 2939, 'hesitant': 2099, 'flat': 1742, 'panel': 3169, 'lcd': 2533, 'build': 572, 'weight': 4865, 'space': 4134, 'save': 3840, 'attractive': 285, 'design': 1171, 'sharp': 3966, 'playback': 3307, 'negative': 2967, 'function': 1855, 'key': 2458, 'due': 1352, 'color': 829, 'almost': 128, 'carefully': 639, 'terrible': 4425, 'birthday': 439, 'fail': 1629, 'junk': 2446, 'capable': 623, 'recall': 3591, 'flash': 1740, 'channel': 696, 'sony': 4112, 'universal': 4677, 'learn': 2543, 'factory': 1625, 'deal': 1094, 'user': 4720, 'annoy': 185, 'replace': 3684, 'tube': 4610, 'gain': 1872, 'counter': 980, 'internal': 2341, 'bonus': 483, 'defective': 1119, 'electronics': 1424, 'express': 1603, 'contact': 927, 'number': 3036, 'pick': 3271, 'arrive': 239, 'week': 4862, 'later': 2518, 'clarity': 774, 'mode': 2865, 'loud': 2657, 'rv': 3807, 'run': 3799, 'barely': 344, 'solve': 4098, 'jack': 2389, 'stereo': 4219, 'speaker': 4141, 'lightweight': 2587, 'antenna': 190, 'opinion': 3088, 'bias': 424, 'angle': 173, 'europe': 1524, 'clean': 784, 'proper': 3464, 'shed': 3967, 'understand': 4654, 'tourist': 4548, 'guide': 2005, 'tour': 4547, 'country': 982, 'reference': 3623, 'travel': 4578, 'outline': 3126, 'detail': 1180, 'disappointment': 1234, 'realy': 3584, 'everybody': 1535, 'combination': 832, 'illustration': 2221, 'text': 4436, 'overall': 3131, 'sight': 4003, 'city': 766, 'european': 1525, 'thank': 4441, 'lonely': 2643, 'planet': 3298, 'info': 2285, 'surface': 4332, 'receive': 3595, 'germany': 1910, 'overview': 3143, 'greece': 1980, 'spanish': 4136, 'sort': 4123, 'printing': 3425, 'highlight': 2109, 'front': 1843, 'course': 986, 'kid': 2461, 'jay': 2404, 'eric': 1506, 'tender': 4419, 'rock': 3763, 'offend': 3061, 'either': 1417, 'depend': 1156, 'foot': 1781, 'accept': 16, 'way': 4848, 'gift': 1916, 'husband': 2195, 'date': 1082, 'disappointing': 1233, 'plate': 3302, 'inferior': 2281, 'previous': 3412, 'edition': 1401, 'ahead': 101, 'homer': 2141, 'helpful': 2089, 'gem': 1894, 'complex': 873, 'subject': 4286, 'second': 3897, 'century': 683, 'religious': 3657, 'authority': 297, 'serious': 3934, 'period': 3242, 'essential': 1515, 'argue': 230, 'yes': 4983, 'cardboard': 635, 'beat': 377, 'cheesy': 719, 'across': 37, 'entire': 1490, 'solid': 4094, 'decent': 1105, 'distance': 1266, 'scrap': 3877, 'noticeable': 3026, 'plenty': 3316, 'material': 2754, 'loosely': 2649, 'bottom': 500, 'ship': 3978, 'exchange': 1566, 'damage': 1067, 'risk': 3752, 'unknown': 4680, 'africa': 91, 'produce': 3439, 'mixture': 2863, 'african': 92, 'feeling': 1678, 'soft': 4090, 'fit': 1733, 'record': 3610, 'france': 1815, 'paris': 3184, 'professional': 3444, 'hot': 2167, 'lazy': 2531, 'expectation': 1584, 'shoe': 3985, 'rip': 3750, 'apart': 206, 'sole': 4093, 'clark': 775, 'sadly': 3812, 'within': 4920, 'month': 2883, 'similar': 4014, 'profound': 3448, 'narrative': 2942, 'style': 4284, 'famous': 1643, 'john': 2425, 'frequently': 1831, 'carry': 647, 'tone': 4528, 'amateur': 145, 'historian': 2121, 'neither': 2970, 'graduate': 1961, 'consider': 916, 'represent': 3689, 'today': 4516, 'research': 3697, 'thin': 4462, 'conclude': 896, 'essentially': 1516, 'primary': 3418, 'secondary': 3898, 'source': 4130, 'rat': 3561, 'yr': 4993, 'barbie': 341, 'computer': 887, 'worry': 4944, 'vibrant': 4762, 'friendly': 1837, 'mommy': 2874, 'ton': 4527, 'together': 4520, 'decorate': 1110, 'alone': 129, 'creativity': 1009, 'adventure': 76, 'addict': 55, 'opening': 3084, 'sing': 4027, 'non': 3009, 'stop': 4239, 'prince': 3421, 'program': 3449, 'cry': 1034, 'child': 727, 'currently': 1048, 'bedroom': 386, 'result': 3715, 'painting': 3161, 'flower': 1762, 'halfway': 2021, 'exit': 1579, 'freeze': 1828, 'spot': 4175, 'urge': 4710, 'software': 4091, 'reboot': 3590, 'site': 4037, 'frustrate': 1846, 'fault': 1662, 'catch': 661, 'bug': 569, 'buck': 560, 'avoid': 306, 'creative': 1008, 'granddaughter': 1967, 'plan': 3296, 'imagination': 2225, 'fight': 1698, 'choose': 738, 'theme': 4449, 'allow': 125, 'power': 3371, 'stone': 4237, 'animation': 177, 'bore': 492, 'adult': 71, 'variation': 4739, 'scheme': 3861, 'pattern': 3210, 'highly': 2110, 'rental': 3678, 'basically': 353, 'sister': 4035, 'os': 3113, 'classic': 777, 'multiple': 2920, 'access': 18, 'everytime': 1539, 'task': 4382, 'sequence': 3931, 'file': 1702, 'crash': 1000, 'possible': 3357, 'grand': 1965, 'patience': 3206, 'survive': 4345, 'trial': 4589, 'substitute': 4291, 'vendor': 4752, 'feedback': 1673, 'rate': 3562, 'bother': 498, 'future': 1865, 'company': 859, 'mistake': 2858, 'hundred': 2188, 'dollar': 1291, 'building': 573, 'careful': 638, 'smell': 4073, 'bottle': 499, 'delicate': 1138, 'summer': 4314, 'impressed': 2243, 'creepy': 1014, 'wow': 4954, 'revenge': 3724, 'door': 1300, 'open': 3082, 'prepare': 3398, 'didnt': 1205, 'menu': 2802, 'exist': 1577, 'matter': 2757, 'exception': 1561, 'dubbing': 1347, 'sub': 4285, 'par': 3174, 'remain': 3659, 'shame': 3962, 'original': 3107, 'offering': 3064, 'sooo': 4115, 'official': 3067, 'production': 3442, 'screw': 3883, 'pioneer': 3285, 'sad': 3811, 'ya': 4971, 'rap': 3554, 'ta': 4364, 'blow': 464, 'jam': 2393, 'ride': 3743, 'underrated': 4653, 'houston': 2173, 'pat': 3202, 'steve': 4221, 'regardless': 3632, 'alive': 123, 'legacy': 2552, 'dirty': 1227, 'south': 4131, 'guest': 2003, 'fat': 1658, 'chris': 744, 'chronicle': 751, 'farm': 1652, 'photo': 3262, 'version': 4757, 'bill': 429, 'history': 2124, 'relationship': 3646, 'loved': 2663, 'treasure': 4582, 'keeper': 2454, 'draw': 1320, 'idea': 2203, 'comfy': 842, 'lounge': 2659, 'cake': 602, 'topper': 4535, 'june': 2443, 'estimate': 1520, 'shipping': 3980, 'july': 2441, 'wrong': 4962, 'pearl': 3220, 'kit': 2471, 'cute': 1056, 'provide': 3476, 'annoyed': 186, 'include': 2256, 'trust': 4607, 'additional': 58, 'sweet': 4353, 'grace': 1958, 'email': 1438, 'supply': 4323, 'list': 2611, 'sheet': 3969, 'ready': 3576, 'boot': 489, 'phone': 3261, 'manufacturer': 2721, 'unreliable': 4691, 'critic': 1021, 'consumer': 926, 'alike': 122, 'release': 3650, 'debut': 1101, 'radio': 3535, 'hit': 2125, 'dj': 1278, 'band': 337, 'hopefully': 2152, 'club': 807, 'sale': 3819, 'practically': 3376, 'leap': 2542, 'grab': 1957, 'neck': 2962, 'upcoming': 4698, 'omg': 3075, 'own': 3147, 'saturday': 3839, 'cause': 666, 'classical': 778, 'jason': 2400, 'lead': 2535, 'moment': 2873, 'relief': 3654, 'achieve': 32, 'suggest': 4307, 'skip': 4051, 'finally': 1710, 'horribly': 2157, 'lack': 2493, 'mystery': 2933, 'ten': 4417, 'educational': 1405, 'train': 4566, 'shape': 3963, 'guarantee': 1999, 'puzzle': 3504, 'range': 3550, 'silly': 4012, 'odd': 3056, 'theory': 4451, 'concert': 894, 'string': 4264, 'appreciate': 218, 'excelent': 1555, 'rendition': 3675, 'caution': 667, 'remastered': 3664, 'irrelevant': 2376, 'textbook': 4437, 'transaction': 4568, 'engage': 1468, 'te': 4387, 'wash': 4834, 'shore': 3988, 'colin': 820, 'tess': 4433, 'opposite': 3091, 'attract': 283, 'call': 604, 'trashy': 4577, 'usually': 4724, 'tie': 4491, 'blond': 461, 'enchant': 1459, 'heroine': 2098, 'part': 3186, 'content': 931, 'island': 2379, 'solitude': 4095, 'shake': 3957, 'fear': 1667, 'strange': 4251, 'strike': 4263, 'friendship': 1838, 'courage': 985, 'amusing': 160, 'mostly': 2895, 'characterization': 701, 'character': 699, 'introduce': 2354, 'behavior': 394, 'development': 1187, 'force': 1785, 'improve': 2246, 'towards': 4551, 'portable': 3347, 'drive': 1333, 'disappoint': 1231, 'performance': 3239, 'constantly': 922, 'half': 2020, 'uncomfortable': 4649, 'pant': 3170, 'incredibly': 2267, 'stiff': 4227, 'authentic': 295, 'encounter': 1460, 'yoruba': 4989, 'particular': 3188, 'certain': 685, 'nuance': 3033, 'speak': 4140, 'anybody': 196, 'clue': 808, 'question': 3513, 'unanswered': 4643, 'impossible': 2241, 'native': 2949, 'confuse': 907, 'teach': 4389, 'basic': 352, 'vocabulary': 4799, 'specific': 4147, 'vehicle': 4748, 'correct': 970, 'mat': 2752, 'duplicate': 1361, 'therefore': 4455, 'sit': 4036, 'grandchild': 1966, 'value': 4734, 'toe': 4518, 'kelly': 2455, 'pet': 3250, 'parade': 3177, 'dress': 1327, 'pony': 3336, 'jump': 2442, 'etc': 1522, 'animal': 175, 'nail': 2938, 'float': 1756, 'accomplish': 25, 'along': 130, 'wonderfully': 4931, 'instal': 2310, 'laptop': 2509, 'tough': 4546, 'bear': 375, 'fish': 1729, 'finger': 1716, 'pad': 3155, 'load': 2629, 'different': 1211, 'endless': 1464, 'graphic': 1972, 'colorful': 830, 'winner': 4909, 'reinstall': 3640, 'issue': 2381, 'activity': 42, 'slip': 4065, 'heel': 2082, 'satisfy': 3837, 'manner': 2716, 'awesome': 313, 'advertisement': 79, 'claire': 770, 'uk': 4634, 'assume': 267, 'available': 302, 'england': 1473, 'arcade': 224, 'ive': 2387, 'guy': 2013, 'compatible': 864, 'machine': 2685, 'deeply': 1115, 'stage': 4188, 'revolution': 3729, 'equivalent': 1504, 'unheard': 4669, 'favourite': 1666, 'situation': 4038, 'lucky': 2673, 'letter': 2568, 'admit': 66, 'michael': 2819, 'montgomery': 2882, 'approach': 220, 'couple': 984, 'beer': 387, 'spice': 4158, 'cuz': 1058, 'soldier': 4092, 'punk': 3492, 'hr': 2177, 'ball': 330, 'este': 1519, 'libro': 2575, 'lo': 2628, 'que': 3509, 'el': 1418, 'si': 4000, 'de': 1090, 'con': 888, 'mi': 2818, 'ex': 1548, 'cereal': 684, 'hook': 2147, 'eat': 1388, 'especially': 1512, 'taste': 4383, 'hungry': 2189, 'bunch': 580, 'splendid': 4169, 'fill': 1703, 'word': 4935, 'warning': 4830, 'local': 2630, 'walmart': 4817, 'church': 755, 'bowl': 506, 'timber': 4500, 'frame': 1814, 'technical': 4395, 'joint': 2428, 'span': 4135, 'mill': 2834, 'museum': 2924, 'master': 2749, 'recent': 3597, 'trip': 4597, 'avid': 305, 'breeze': 531, 'various': 4741, 'illustrate': 2219, 'fascinate': 1653, 'practical': 3375, 'outstanding': 3130, 'although': 140, 'construction': 924, 'invaluable': 2357, 'process': 3438, 'editing': 1400, 'spell': 4155, 'caption': 628, 'cap': 622, 'traditional': 4561, 'print': 3423, 'drawing': 1322, 'inform': 2286, 'project': 3454, 'dip': 1221, 'temperature': 4411, 'shrink': 3997, 'egg': 1412, 'transfer': 4569, 'needless': 2965, 'intelligent': 2328, 'immediately': 2230, 'property': 3466, 'explicit': 1596, 'war': 4822, 'coast': 810, 'pc': 3215, 'sink': 4033, 'meant': 2772, 'race': 3528, 'battlefield': 366, 'landscape': 2503, 'slide': 4061, 'total': 4540, 'rubbish': 3793, 'mine': 2840, 'ireland': 2371, 'florida': 1760, 'costly': 973, 'henry': 2094, 'nose': 3021, 'chew': 723, 'nobody': 3004, 'worn': 4943, 'clone': 798, 'forty': 1803, 'dad': 1062, 'ill': 2215, 'significance': 4007, 'battle': 365, 'obsession': 3046, 'replacement': 3685, 'closet': 802, 'shelf': 3970, 'thread': 4478, 'bare': 343, 'online': 3078, 'less': 2564, 'thanks': 4444, 'disney': 1258, 'toy': 4556, 'six': 4039, 'contemporary': 930, 'delight': 1140, 'snow': 4082, 'ups': 4705, 'reward': 3731, 'forward': 1805, 'detailed': 1181, 'sketch': 4047, 'excitement': 1569, 'actual': 45, 'complicate': 875, 'beginner': 391, 'thrill': 4480, 'instructional': 2319, 'match': 2753, 'cushion': 1052, 'description': 1167, 'deliver': 1142, 'impression': 2244, 'insert': 2300, 'attach': 275, 'strap': 4254, 'definately': 1122, 'luckily': 2672, 'policy': 3330, 'free': 1826, 'sex': 3949, 'publish': 3484, 'broadway': 546, 'theatre': 4447, 'archive': 226, 'witty': 4924, 'ruin': 3796, 'costume': 974, 'absurd': 10, 'blanket': 451, 'acting': 39, 'btw': 558, 'director': 1226, 'goal': 1937, 'intention': 2332, 'recording': 3611, 'extended': 1606, 'drinking': 1331, 'blurry': 471, 'audience': 286, 'charm': 707, 'chance': 693, 'student': 4273, 'compilation': 868, 'perform': 3238, 'artist': 245, 'poorly': 3339, 'wave': 4847, 'prior': 3426, 'imply': 2236, 'garbage': 1882, 'prompt': 3458, 'november': 3030, 'nowhere': 3032, 'deceive': 1103, 'group': 1995, 'duh': 1353, 'trash': 4576, 'reception': 3599, 'session': 3939, 'cheap': 713, 'die': 1206, 'camera': 608, 'continue': 934, 'included': 2257, 'tech': 4394, 'mr': 2913, 'curious': 1046, 'producer': 3440, 'realize': 3582, 'reveal': 3722, 'crucial': 1030, 'unbelievable': 4645, 'earlier': 1376, 'detective': 1183, 'attorney': 282, 'unfold': 4663, 'abuse': 11, 'childhood': 729, 'forgive': 1791, 'successful': 4296, 'spite': 4168, 'horrendous': 2155, 'lord': 2650, 'refer': 3622, 'peter': 3251, 'stark': 4201, 'major': 2701, 'league': 2539, 'score': 3874, 'extensive': 1608, 'resource': 3704, 'deserve': 1170, 'tomorrow': 4526, 'till': 4497, 'massive': 2748, 'living': 2625, 'subscription': 4287, 'coverage': 991, 'minor': 2844, 'college': 826, 'brand': 518, 'steer': 4214, 'secret': 3899, 'joe': 2424, 'al': 111, 'phil': 3256, 'intriguing': 2352, 'influence': 2283, 'titan': 4513, 'exploration': 1597, 'jet': 2415, 'craft': 995, 'fuel': 1851, 'atmosphere': 273, 'originally': 3109, 'intrigue': 2351, 'father': 1661, 'mission': 2857, 'reality': 3581, 'fantasy': 1648, 'david': 1086, 'asimov': 255, 'peek': 3222, 'block': 459, 'obviously': 3049, 'fails': 1630, 'noise': 3006, 'incorporate': 2263, 'easily': 1384, 'identify': 2206, 'banana': 336, 'penguin': 3228, 'wall': 4816, 'smash': 4072, 'drop': 1336, 'tolerate': 4521, 'treatment': 4584, 'art': 241, 'collector': 825, 'twin': 4623, 'learning': 2544, 'tool': 4531, 'fisher': 1730, 'spin': 4162, 'queen': 3510, 'stack': 4187, 'knock': 2477, 'bang': 338, 'plain': 3295, 'wooden': 4934, 'object': 3041, 'opportunity': 3089, 'eye': 1617, 'decision': 1107, 'overnight': 3137, 'rocket': 3765, 'scientist': 3869, 'rub': 3791, 'dissapointing': 1263, 'concept': 891, 'baby': 320, 'mother': 2896, 'imaginative': 2226, 'edge': 1398, 'safety': 3815, 'grandson': 1970, 'goodness': 1946, 'interested': 2337, 'manipulate': 2714, 'adorable': 69, 'upgrade': 4701, 'format': 1794, 'storage': 4240, 'durable': 1363, 'perfectly': 3237, 'hurt': 2194, 'category': 663, 'factor': 1624, 'fully': 1853, 'comprehend': 882, 'dig': 1215, 'broke': 547, 'waterproof': 4845, 'whale': 4872, 'mary': 2743, 'study': 4275, 'communication': 852, 'washington': 4837, 'direct': 1223, 'nifty': 2992, 'halloween': 2023, 'dummy': 1358, 'nevertheless': 2977, 'depict': 1157, 'liked': 2590, 'certainly': 686, 'campaign': 611, 'academic': 13, 'organization': 3104, 'dedicate': 1113, 'propaganda': 3463, 'office': 3065, 'regularly': 3638, 'hide': 2105, 'terrorist': 4431, 'weapon': 4853, 'violence': 4782, 'intend': 2329, 'innocent': 2296, 'murder': 2922, 'extreme': 1614, 'formula': 1797, 'fortunately': 1801, 'hesitate': 2100, 'chinese': 733, 'green': 1982, 'red': 3615, 'logo': 2639, 'fx': 1869, 'serial': 3932, 'handful': 2028, 'memorable': 2795, 'seal': 3890, 'wing': 4908, 'blame': 448, 'self': 3914, 'sorry': 4122, 'travesty': 4580, 'killer': 2463, 'supernatural': 4320, 'storyline': 4245, 'hole': 2132, 'gory': 1952, 'confusing': 909, 'stephen': 4218, 'initially': 2292, 'indie': 2275, 'horror': 2161, 'flick': 1751, 'jennifer': 2410, 'weekend': 4863, 'bernie': 416, 'terry': 4432, 'actor': 43, 'lol': 2640, 'anyways': 202, 'mask': 2744, 'maker': 2704, 'suspense': 4347, 'display': 1259, 'effort': 1411, 'dialogue': 1197, 'tree': 4585, 'root': 3780, 'yard': 4973, 'knee': 2473, 'cinematic': 759, 'path': 3204, 'typically': 4629, 'predictable': 3389, 'fashion': 1655, 'victim': 4767, 'face': 1621, 'motivation': 2901, 'entry': 1493, 'familiar': 1641, 'cast': 654, 'effective': 1409, 'treat': 4583, 'williams': 4900, 'role': 3769, 'lee': 2549, 'doom': 1299, 'equally': 1501, 'ii': 2213, 'filmmaker': 1706, 'borrow': 496, 'everyone': 1537, 'elevate': 1427, 'unimaginative': 4670, 'exactly': 1550, 'fright': 1839, 'safe': 3814, 'boring': 495, 'brief': 536, 'appearance': 213, 'icon': 2202, 'genre': 1903, 'artifact': 244, 'card': 634, 'yellow': 4980, 'ordinary': 3101, 'holocaust': 2138, 'diary': 1201, 'extract': 1612, 'eastern': 1386, 'medicine': 2781, 'dissappointed': 1265, 'unhappy': 4668, 'practice': 3377, 'primer': 3420, 'basis': 354, 'application': 216, 'philosophy': 3260, 'emphasize': 1453, 'natural': 2950, 'balance': 329, 'nature': 2952, 'informative': 2288, 'warcraft': 4823, 'redundant': 3621, 'combat': 831, 'pleasure': 3315, 'respect': 3705, 'ambient': 151, 'enthusiast': 1489, 'whatsoever': 4875, 'darn': 1080, 'guitarist': 2010, 'utopia': 4725, 'dissapointed': 1262, 'direction': 1224, 'dry': 1342, 'pillow': 3280, 'advertise': 77, 'post': 3359, 'tiny': 4508, 'foam': 1770, 'worthless': 4949, 'amount': 157, 'whatever': 4873, 'super': 4316, 'handle': 2029, 'heavy': 2080, 'dense': 1152, 'cant': 620, 'prop': 3462, 'sleep': 4058, 'otherwise': 3116, 'position': 3354, 'width': 4893, 'rotate': 3784, 'lay': 2528, 'false': 1639, 'military': 2832, 'pic': 3270, 'reply': 3687, 'serum': 3936, 'tend': 4418, 'rid': 3741, 'weather': 4855, 'somehow': 4101, 'double': 1303, 'ai': 102, 'fix': 1737, 'slightly': 4063, 'shop': 3987, 'grocery': 1991, 'dick': 1202, 'provoking': 3479, 'winter': 4911, 'suit': 4310, 'advanced': 74, 'powerful': 3373, 'prefer': 3391, 'outfit': 3124, 'skate': 4044, 'automatically': 300, 'hello': 2087, 'technique': 4397, 'stroke': 4267, 'body': 475, 'split': 4170, 'muscle': 2923, 'kick': 2460, 'crook': 1027, 'worthwhile': 4950, 'stink': 4231, 'scream': 3879, 'ice': 2201, 'simplistic': 4020, 'strive': 4266, 'onto': 3079, 'enjoyment': 1480, 'low': 2667, 'dud': 1350, 'somebody': 4099, 'thats': 4445, 'sake': 3818, 'sparkle': 4139, 'seven': 3944, 'window': 4905, 'xp': 4969, 'frustration': 1849, 'crowd': 1029, 'despite': 1177, 'trick': 4592, 'yesterday': 4984, 'confidence': 901, 'smoothly': 4078, 'gentleman': 1905, 'la': 2487, 'rating': 3564, 'pity': 3292, 'delivery': 1144, 'mail': 2696, 'joy': 2434, 'rare': 3557, 'dose': 1301, 'fire': 1720, 'truck': 4603, 'pleased': 3314, 'horse': 2162, 'imagery': 2224, 'newspaper': 2982, 'afternoon': 93, 'supplier': 4322, 'nasty': 2945, 'apartment': 207, 'switch': 4355, 'outlet': 3125, 'eight': 1416, 'plug': 3318, 'saver': 3841, 'device': 1188, 'hitch': 2126, 'mystical': 2934, 'relax': 3649, 'dr': 1313, 'legend': 2554, 'stranger': 4253, 'dream': 1325, 'surreal': 4340, 'symbolism': 4358, 'someday': 4100, 'peace': 3217, 'shin': 3976, 'land': 2502, 'charming': 708, 'captivate': 629, 'lj': 2626, 'smith': 4075, 'ash': 250, 'teenage': 4402, 'humor': 2185, 'paranormal': 3182, 'disaster': 1235, 'area': 227, 'darkness': 1079, 'hooked': 2148, 'protect': 3472, 'happiness': 2036, 'possibly': 3358, 'instantly': 2316, 'inspire': 2308, 'poetry': 3324, 'respond': 3706, 'personality': 3247, 'vampire': 4736, 'vision': 4790, 'trilogy': 4595, 'recognize': 3604, 'soulmate': 4126, 'unrealistic': 4690, 'tune': 4613, 'male': 2707, 'attraction': 284, 'witch': 4919, 'instance': 2314, 'burning': 584, 'legendary': 2555, 'gel': 1893, 'pen': 3226, 'ink': 2294, 'bleed': 454, 'square': 4181, 'locate': 2632, 'left': 2550, 'magazine': 2691, 'publication': 3483, 'mirror': 2849, 'glimpse': 1928, 'nation': 2947, 'shortly': 3990, 'scholar': 3862, 'compelling': 866, 'illuminate': 2217, 'precious': 3385, 'examine': 1553, 'evolution': 1546, 'conclusion': 897, 'vast': 4743, 'data': 1081, 'readable': 3572, 'reflection': 3626, 'professor': 3445, 'regret': 3636, 'wade': 4810, 'likely': 2591, 'wealth': 4852, 'awake': 308, 'invest': 2362, 'somewhat': 4106, 'useful': 4718, 'richard': 3739, 'convincing': 952, 'wide': 4890, 'perspective': 3249, 'kylie': 2486, 'bite': 442, 'subtle': 4293, 'performer': 3240, 'ballad': 331, 'nightmare': 2994, 'flow': 1761, 'catchy': 662, 'chorus': 743, 'melt': 2792, 'funky': 1860, 'language': 2505, 'usa': 4712, 'import': 2237, 'limit': 2597, 'border': 491, 'edit': 1399, 'cut': 1055, 'arrangement': 237, 'rarity': 3559, 'tom': 4522, 'remix': 3669, 'dub': 1345, 'cord': 963, 'thomas': 4469, 'naturally': 2951, 'compel': 865, 'relate': 3643, 'rambling': 3545, 'involve': 2367, 'mindless': 2839, 'footage': 1782, 'meet': 2784, 'rent': 3677, 'kay': 2451, 'aside': 254, 'gear': 1892, 'toward': 4550, 'pack': 3152, 'interview': 2347, 'normal': 3017, 'center': 681, 'commercial': 848, 'introduction': 2355, 'pain': 3157, 'frustrated': 1847, 'advice': 81, 'asleep': 257, 'horrific': 2159, 'warrior': 4833, 'brilliantly': 540, 'gore': 1950, 'fanatic': 1645, 'warranty': 4832, 'equipment': 1503, 'printer': 3424, 'strip': 4265, 'stretch': 4261, 'waist': 4811, 'tight': 4492, 'inch': 2254, 'earn': 1378, 'comfortable': 839, 'largely': 2512, 'out': 3119, 'slack': 4053, 'usual': 4723, 'normally': 3018, 'flimsy': 1753, 'fabric': 1619, 'advertising': 80, 'coffee': 816, 'gray': 1975, 'misleading': 2853, 'business': 587, 'chain': 689, 'iron': 2373, 'emphasis': 1452, 'mature': 2759, 'shy': 3999, 'disturb': 1271, 'render': 3674, 'fairy': 1634, 'tale': 4371, 'grim': 1985, 'wwii': 4965, 'glove': 1932, 'appropriate': 221, 'valuable': 4733, 'alternative': 139, 'italy': 2383, 'youth': 4991, 'confusion': 910, 'credibility': 1011, 'rome': 3776, 'appreciation': 219, 'depth': 1163, 'dish': 1251, 'satisfying': 3838, 'flight': 1752, 'food': 1779, 'used': 4717, 'relatively': 3648, 'detract': 1185, 'laura': 2526, 'enhance': 1476, 'overdone': 3133, 'pun': 3489, 'sensual': 3923, 'glory': 1931, 'soul': 4124, 'preparation': 3397, 'discover': 1242, 'mexican': 2817, 'magic': 2693, 'fable': 1618, 'cook': 954, 'nude': 3034, 'chick': 725, 'lit': 2618, 'roman': 3773, 'cooking': 958, 'market': 2732, 'porn': 3345, 'desire': 1172, 'bath': 361, 'tip': 4509, 'insult': 2323, 'everywhere': 1540, 'vivid': 4798, 'lousy': 2660, 'jerk': 2412, 'portray': 3351, 'substance': 4289, 'sexy': 3952, 'metaphor': 2814, 'adequate': 60, 'occasionally': 3052, 'overlook': 3135, 'plane': 3297, 'suppose': 4325, 'generally': 1896, 'management': 2711, 'heap': 2069, 'report': 3688, 'bos': 497, 'financial': 1712, 'analysis': 163, 'ability': 2, 'topic': 4534, 'ordered': 3100, 'elsewhere': 1435, 'cash': 652, 'tha': 4440, 'existence': 1578, 'permanently': 3244, 'repetitive': 3683, 'repeat': 3680, 'huh': 2181, 'yeah': 4976, 'sign': 4005, 'passing': 3196, 'gon': 1943, 'na': 2937, 'lil': 2593, 'alright': 135, 'rapper': 3556, 'million': 2836, 'juvenile': 2449, 'fade': 1627, 'suck': 4298, 'bounce': 502, 'as': 249, 'da': 1061, 'solo': 4096, 'quit': 3521, 'comedian': 836, 'wayne': 4849, 'besides': 418, 'alien': 121, 'degreez': 1134, 'listening': 2615, 'dictionary': 1204, 'wack': 4809, 'belive': 401, 'wit': 4918, 'crap': 998, 'walk': 4814, 'pointless': 3327, 'definetely': 1124, 'strong': 4268, 'bump': 579, 'em': 1437, 'ha': 2015, 'shot': 3991, 'logic': 2637, 'longer': 2645, 'raise': 3541, 'responsible': 3709, 'co': 809, 'worker': 4939, 'restaurant': 3712, 'french': 1829, 'quarter': 3507, 'orleans': 3110, 'delightful': 1141, 'miller': 2835, 'unlimited': 4684, 'sun': 4315, 'brave': 520, 'tim': 4499, 'dinner': 1220, 'wheel': 4876, 'lesson': 2565, 'desktop': 1174, 'thorough': 4470, 'comprehensive': 883, 'html': 2178, 'web': 4857, 'smart': 4071, 'index': 2270, 'clever': 788, 'expand': 1581, 'technology': 4399, 'advance': 73, 'intermediate': 2340, 'experienced': 1589, 'website': 4859, 'client': 792, 'expert': 1592, 'buying': 595, 'correctly': 971, 'arrival': 238, 'indicate': 2273, 'healthy': 2068, 'thoughtful': 4475, 'fiction': 1691, 'identity': 2207, 'bond': 480, 'evoke': 1545, 'provoke': 3478, 'cultural': 1039, 'australia': 293, 'complain': 869, 'portrayal': 3352, 'cartridge': 650, 'throat': 4482, 'spray': 4177, 'hurry': 2193, 'relieve': 3655, 'yo': 4986, 'sore': 4119, 'recommendation': 3608, 'mom': 2872, 'glider': 1927, 'sooner': 4114, 'bench': 411, 'metal': 2812, 'unsure': 4693, 'tighten': 4493, 'wasnt': 4838, 'bar': 340, 'sturdy': 4283, 'assemble': 261, 'movement': 2910, 'blah': 447, 'compliment': 877, 'chair': 690, 'arm': 233, 'shipment': 3979, 'heck': 2081, 'drag': 1315, 'wet': 4871, 'thinking': 4465, 'james': 2394, 'moody': 2886, 'awsome': 317, 'sample': 3823, 'ear': 1372, 'iv': 2386, 'rush': 3802, 'eerie': 1407, 'itunes': 2385, 'understanding': 4656, 'generation': 1898, 'united': 4676, 'interpret': 2344, 'jewish': 2417, 'worthy': 4951, 'rabbi': 3526, 'element': 1425, 'biblical': 426, 'truth': 4608, 'gospel': 1953, 'socialism': 4087, 'economics': 1394, 'broad': 544, 'variety': 4740, 'political': 3332, 'foster': 1806, 'aesthetic': 85, 'marriage': 2736, 'marry': 2738, 'welcome': 4867, 'spouse': 4176, 'consist': 917, 'excessive': 1565, 'argument': 231, 'watchable': 4842, 'married': 2737, 'cat': 658, 'angry': 174, 'yell': 4978, 'length': 2559, 'endure': 1465, 'test': 4434, 'discussion': 1245, 'discuss': 1244, 'outside': 3129, 'literature': 2621, 'chop': 739, 'answer': 189, 'excuse': 1571, 'wolverine': 4927, 'cheer': 717, 'bye': 597, 'bind': 433, 'bass': 357, 'attitude': 281, 'singing': 4029, 'drum': 1339, 'unique': 4674, 'suggestion': 4308, 'acoustic': 36, 'accord': 26, 'knowledge': 2480, 'duo': 1360, 'instrumental': 2322, 'rocky': 3767, 'road': 3758, 'mini': 2841, 'cheaply': 714, 'terrific': 4427, 'organ': 3102, 'mess': 2809, 'setting': 3941, 'burnt': 585, 'rubber': 3792, 'service': 3938, 'pace': 3150, 'rivet': 3757, 'bookstore': 488, 'gothic': 1955, 'curse': 1049, 'supposedly': 4326, 'impressive': 2245, 'feehan': 1676, 'warn': 4827, 'christine': 748, 'engine': 1470, 'nicoletta': 2990, 'village': 4777, 'exercise': 1575, 'select': 3912, 'mysterious': 2932, 'frighten': 1840, 'communicate': 851, 'similarity': 4015, 'eager': 1370, 'presence': 3400, 'unlike': 4682, 'temper': 4410, 'passion': 3197, 'empathy': 1450, 'potential': 3365, 'develop': 1186, 'spark': 4138, 'action': 40, 'suspenseful': 4348, 'believable': 398, 'pound': 3367, 'emma': 1445, 'holly': 2135, 'reach': 3569, 'dimensional': 1219, 'advantage': 75, 'success': 4295, 'begining': 390, 'bound': 503, 'weird': 4866, 'lively': 2624, 'adore': 70, 'strongly': 4269, 'tea': 4388, 'severely': 3947, 'camcorder': 607, 'usb': 4715, 'overseas': 3141, 'choppy': 741, 'recently': 3598, 'driver': 1335, 'protection': 3473, 'accurate': 29, 'blur': 469, 'barrel': 347, 'distortion': 1269, 'piano': 3269, 'common': 850, 'teacher': 4390, 'lid': 2576, 'accidentally': 22, 'upon': 4703, 'alternate': 138, 'adjust': 62, 'limited': 2599, 'cruel': 1032, 'unusual': 4695, 'patricia': 3208, 'cornwell': 966, 'boyfriend': 511, 'seat': 3895, 'collapse': 821, 'stick': 4224, 'thriller': 4481, 'evil': 1543, 'holder': 2131, 'nazi': 2954, 'criminal': 1017, 'dump': 1359, 'scarpetta': 3854, 'summary': 4313, 'virtually': 4787, 'paramount': 3180, 'harris': 2048, 'trite': 4600, 'frankly': 1821, 'turner': 4616, 'grip': 1988, 'unable': 4641, 'lost': 2655, 'cassette': 653, 'envelope': 1494, 'prevent': 3410, 'forensic': 1788, 'police': 3329, 'row': 3790, 'execute': 1572, 'current': 1047, 'particularly': 3189, 'niece': 2991, 'installment': 2313, 'potter': 3366, 'field': 1694, 'science': 3867, 'muddle': 2917, 'electric': 1420, 'flesh': 1749, 'commit': 849, 'redeem': 3616, 'latter': 2520, 'villain': 4778, 'flaw': 1744, 'bed': 385, 'hardcover': 2041, 'prime': 3419, 'shallow': 3961, 'contain': 928, 'widely': 4891, 'incomplete': 2260, 'binding': 434, 'documentation': 1284, 'unclear': 4648, 'adam': 48, 'unfunny': 4667, 'partner': 3190, 'earth': 1381, 'previously': 3413, 'entertaining': 1486, 'spoil': 4171, 'degrade': 1132, 'zero': 4995, 'nope': 3016, 'studio': 4274, 'wake': 4813, 'sandler': 3828, 'viewer': 4771, 'climax': 794, 'lackluster': 2496, 'entirely': 1491, 'hill': 2116, 'engaging': 1469, 'comic': 843, 'illness': 2216, 'destroy': 1178, 'lifestyle': 2579, 'necessarily': 2960, 'doesnt': 1285, 'george': 1907, 'experimental': 1591, 'drug': 1338, 'ira': 2370, 'hire': 2119, 'patch': 3203, 'suddenly': 4302, 'immature': 2229, 'lame': 2501, 'sexual': 3950, 'nudity': 3035, 'circle': 761, 'reputation': 3692, 'dramatic': 1319, 'cold': 818, 'mainstream': 2699, 'press': 3405, 'downhill': 1307, 'jim': 2419, 'moon': 2887, 'drift': 1328, 'marketing': 2733, 'theater': 4446, 'chuckle': 753, 'making': 2706, 'unnecessary': 4686, 'chemistry': 721, 'conversation': 948, 'acceptable': 17, 'anger': 172, 'hilarious': 2114, 'humour': 2187, 'artsy': 247, 'demand': 1149, 'loser': 2653, 'bird': 437, 'titanic': 4514, 'drawn': 1323, 'profanity': 3443, 'beneath': 413, 'fair': 1632, 'share': 3965, 'appeal': 211, 'vulgar': 4808, 'offensive': 3062, 'likeable': 2589, 'lower': 2668, 'swear': 4350, 'sexuality': 3951, 'grass': 1974, 'altogether': 142, 'tragic': 4563, 'scott': 3876, 'wont': 4932, 'collect': 823, 'depress': 1159, 'tackle': 4366, 'moron': 2893, 'smile': 4074, 'mel': 2788, 'there': 4454, 'hearing': 2072, 'isnt': 2380, 'win': 4903, 'spent': 4157, 'thankful': 4442, 'excess': 1564, 'inspirational': 2307, 'illustrated': 2220, 'anecdote': 170, 'north': 3019, 'thirty': 4467, 'phrase': 3265, 'stitch': 4233, 'vital': 4796, 'artwork': 248, 'feast': 1668, 'dynamic': 1368, 'accompany': 24, 'wan': 4818, 'exotic': 1580, 'whimsical': 4881, 'lovely': 2664, 'host': 2165, 'protagonist': 3471, 'narrator': 2943, 'greek': 1981, 'lengthy': 2560, 'richly': 3740, 'diverse': 1274, 'seek': 3906, 'preserve': 3403, 'tradition': 4560, 'interact': 2334, 'social': 4086, 'environment': 1495, 'delve': 1148, 'sin': 4023, 'whenever': 4877, 'habit': 2016, 'judge': 2436, 'forever': 1789, 'account': 27, 'religion': 3656, 'stereotypical': 4220, 'suitable': 4311, 'disrespect': 1261, 'witness': 4923, 'jean': 2407, 'president': 3404, 'article': 243, 'lady': 2497, 'jfk': 2418, 'http': 2179, 'location': 2633, 'conspiracy': 920, 'government': 1956, 'statement': 4206, 'tap': 4379, 'nonsense': 3014, 'physic': 3266, 'department': 1155, 'mad': 2687, 'ramblings': 3546, 'sum': 4312, 'physically': 3268, 'defy': 1131, 'debunk': 1100, 'furthermore': 1863, 'mixed': 2861, 'insane': 2299, 'evidence': 1541, 'pas': 3193, 'sword': 4356, 'december': 1104, 'recieved': 3601, 'absolutly': 8, 'confident': 902, 'stainless': 4190, 'steel': 4213, 'buddy': 564, 'symbol': 4357, 'blade': 446, 'fraud': 1823, 'adaptation': 50, 'gibberish': 1914, 'convert': 949, 'laundry': 2525, 'curve': 1051, 'cologne': 828, 'bought': 501, 'update': 4699, 'customer': 1054, 'gap': 1880, 'heaven': 2078, 'scent': 3859, 'crush': 1033, 'recommended': 3609, 'nicely': 2986, 'slap': 4055, 'method': 2816, 'possibility': 3356, 'gault': 1888, 'uncle': 4647, 'investigation': 2363, 'york': 4988, 'affair': 86, 'honesty': 2145, 'adjective': 61, 'apparent': 209, 'suffer': 4304, 'tripe': 4598, 'implausible': 2235, 'understandable': 4655, 'brain': 516, 'sixth': 4040, 'labor': 2491, 'bizarre': 444, 'gut': 2012, 'factual': 1626, 'integrity': 2324, 'pale': 3165, 'ignorant': 2211, 'regard': 3631, 'profile': 3446, 'thumb': 4486, 'pit': 3288, 'meaningless': 2771, 'sympathetic': 4359, 'conflict': 904, 'imitation': 2228, 'pile': 3278, 'remainder': 3660, 'table': 4365, 'disturbing': 1272, 'inconsistent': 2262, 'scary': 3855, 'emotionally': 1448, 'contrive': 942, 'temple': 4412, 'intelligence': 2327, 'medical': 2779, 'virginia': 4786, 'whose': 4887, 'frozen': 1844, 'central': 682, 'park': 3185, 'terrify': 4428, 'accuracy': 28, 'lacking': 2495, 'storyteller': 4246, 'kindle': 2467, 'fireplace': 1723, 'yank': 4972, 'doc': 1280, 'plausible': 3304, 'involved': 2368, 'genius': 1902, 'engineer': 1471, 'stilted': 4229, 'oil': 3070, 'hollow': 2134, 'ring': 3749, 'churn': 756, 'profit': 3447, 'terror': 4430, 'killing': 2464, 'bluegrass': 467, 'prove': 3475, 'progress': 3452, 'diagnose': 1194, 'fatal': 1659, 'heal': 2066, 'thousand': 4476, 'grant': 1971, 'retain': 3719, 'noisy': 3007, 'vibration': 4764, 'massager': 2747, 'objective': 3042, 'finding': 1714, 'grasp': 1973, 'exposition': 1601, 'principle': 3422, 'exciting': 1570, 'desert': 1169, 'afraid': 90, 'hey': 2102, 'bitter': 443, 'friday': 1835, 'knowledgeable': 2481, 'bank': 339, 'civilization': 768, 'ramble': 3544, 'hunter': 2191, 'port': 3346, 'ark': 232, 'giant': 1913, 'map': 2723, 'browse': 551, 'disappear': 1230, 'superficial': 4318, 'scientific': 3868, 'lincoln': 2601, 'donald': 1295, 'perception': 3234, 'belongs': 406, 'hazlitt': 2059, 'understood': 4657, 'economic': 1393, 'intervention': 2346, 'working': 4940, 'vote': 4806, 'economy': 1395, 'capitalism': 626, 'merit': 2807, 'significantly': 4009, 'ideal': 2204, 'dismal': 1256, 'serve': 3937, 'third': 4466, 'swing': 4354, 'conservative': 915, 'rant': 3553, 'relevant': 3652, 'crisis': 1019, 'politician': 3333, 'classroom': 780, 'failure': 1631, 'scam': 3846, 'definition': 1127, 'outdated': 3121, 'reflect': 3625, 'moreover': 2890, 'settle': 3942, 'broken': 548, 'mental': 2798, 'pro': 3432, 'damn': 1069, 'benefit': 414, 'cave': 668, 'union': 4673, 'piss': 3287, 'amazingly': 149, 'university': 4679, 'chicago': 724, 'crazy': 1004, 'march': 2725, 'fundamental': 1857, 'overwhelming': 3144, 'majority': 2702, 'cite': 764, 'education': 1404, 'growth': 1997, 'revolutionary': 3730, 'directly': 1225, 'plague': 3294, 'foundation': 1808, 'von': 4804, 'credit': 1012, 'depression': 1162, 'elementary': 1426, 'fellow': 1681, 'loss': 2654, 'freedom': 1827, 'fancy': 1646, 'consequence': 914, 'tremendous': 4587, 'tax': 4385, 'expense': 1586, 'micro': 2821, 'necessary': 2961, 'measure': 2773, 'aka': 110, 'enemy': 1466, 'narration': 2941, 'tedious': 4400, 'donate': 1296, 'critique': 1025, 'popular': 3342, 'agenda': 96, 'rarely': 3558, 'omit': 3076, 'contrary': 938, 'grain': 1962, 'salt': 3821, 'health': 2067, 'dangerous': 1074, 'myth': 2935, 'context': 933, 'corporate': 968, 'trade': 4559, 'anti': 193, 'preach': 3383, 'net': 2974, 'et': 1521, 'hammer': 2025, 'blind': 458, 'utopian': 4726, 'anytime': 200, 'rehash': 3639, 'worship': 4946, 'tout': 4549, 'enlighten': 1481, 'sanity': 3830, 'casual': 657, 'spring': 4179, 'premise': 3395, 'lifetime': 2580, 'prophetic': 3468, 'surprisingly': 4339, 'paul': 3212, 'laughable': 2522, 'skim': 4049, 'mislead': 2852, 'faulty': 1663, 'apparently': 210, 'promote': 3457, 'duty': 1365, 'equation': 1502, 'analyze': 164, 'narrow': 2944, 'introductory': 2356, 'importantly': 2240, 'recycle': 3614, 'pepper': 3231, 'concerned': 893, 'secretly': 3900, 'instrument': 2321, 'velvet': 4751, 'techno': 4398, 'electronica': 1423, 'tire': 4510, 'ho': 2127, 'dumb': 1356, 'im': 2222, 'stellar': 4216, 'invite': 2366, 'vary': 4742, 'musical': 2926, 'animated': 176, 'punch': 3490, 'station': 4207, 'transport': 4574, 'definitly': 1129, 'tripod': 4599, 'bag': 328, 'circuit': 762, 'anderson': 168, 'poverty': 3369, 'sent': 3924, 'journey': 2433, 'sorrow': 4121, 'daniel': 1075, 'hidden': 2104, 'lyrical': 2681, 'constant': 921, 'nineteen': 2998, 'contribution': 941, 'minority': 2845, 'incomprehensible': 2261, 'anthology': 191, 'christian': 746, 'torso': 4537, 'cincher': 757, 'boning': 482, 'chest': 722, 'wire': 4913, 'bra': 513, 'whereas': 4878, 'custom': 1053, 'cloth': 803, 'squeem': 4182, 'shapewear': 3964, 'bone': 481, 'butt': 590, 'hardly': 2043, 'firm': 1725, 'vintage': 4780, 'expensive': 1587, 'clothes': 804, 'liner': 2603, 'comfortably': 840, 'layer': 2529, 'measurement': 2774, 'posture': 3363, 'associate': 265, 'slim': 4064, 'reduce': 3620, 'clothing': 805, 'wedding': 4860, 'opt': 3094, 'bust': 588, 'tighter': 4494, 'def': 1116, 'boob': 484, 'dd': 1089, 'everyday': 1536, 'belly': 403, 'pregnancy': 3392, 'sick': 4001, 'literally': 2619, 'desk': 1173, 'pleasant': 3311, 'bruise': 555, 'flexible': 1750, 'unbearable': 4644, 'bulge': 575, 'spare': 4137, 'fold': 1772, 'trim': 4596, 'shirt': 3982, 'lift': 2581, 'upset': 4706, 'miracle': 2848, 'squeeze': 4183, 'fraction': 1812, 'lb': 2532, 'tummy': 4612, 'thou': 4472, 'tank': 4378, 'sweat': 4351, 'tall': 4375, 'mid': 2823, 'inner': 2295, 'cotton': 975, 'pure': 3495, 'occasion': 3050, 'birth': 438, 'specifically': 4148, 'bulky': 576, 'hideous': 2106, 'sizing': 4043, 'speed': 4154, 'surgery': 4334, 'stomach': 4236, 'theres': 4456, 'underneath': 4652, 'breathing': 528, 'bell': 402, 'snug': 4083, 'concentrate': 890, 'breast': 525, 'compress': 884, 'believer': 400, 'pregnant': 3393, 'pinch': 3283, 'ur': 4708, 'downside': 1310, 'portion': 3349, 'sew': 3948, 'satisfied': 3836, 'sock': 4089, 'poke': 3328, 'bend': 412, 'upper': 4704, 'defeat': 1117, 'increase': 2265, 'bent': 415, 'repair': 3679, 'gym': 2014, 'visible': 4789, 'pink': 3284, 'spine': 4163, 'severe': 3946, 'injury': 2293, 'vanity': 4738, 'surpass': 4335, 'suprise': 4327, 'merchandise': 2804, 'absorb': 9, 'abandon': 1, 'torture': 4538, 'instant': 2315, 'ease': 1383, 'loop': 2647, 'seam': 3891, 'snap': 4080, 'eventually': 1531, 'visually': 4794, 'divide': 1276, 'ouch': 3117, 'daily': 1064, 'rod': 3768, 'painfully': 3159, 'ultimately': 4636, 'grandmother': 1969, 'encourage': 1461, 'regain': 3630, 'trap': 4575, 'diet': 1208, 'anticipate': 194, 'fitting': 1735, 'near': 2957, 'fly': 1767, 'steam': 4212, 'badly': 327, 'stab': 4184, 'havent': 2057, 'hence': 2092, 'reminder': 3667, 'occur': 3053, 'slight': 4062, 'stamp': 4193, 'disease': 1247, 'terribly': 4426, 'gross': 1993, 'rear': 3585, 'sometime': 4104, 'aircraft': 107, 'marie': 2728, 'doll': 1290, 'owe': 3145, 'seemingly': 3908, 'permanent': 3243, 'china': 732, 'german': 1909, 'logan': 2636, 'jimmy': 2420, 'ponder': 3335, 'nine': 2997, 'unwatchable': 4696, 'cheese': 718, 'scholarly': 3863, 'mold': 2871, 'distinct': 1268, 'mass': 2745, 'formal': 1793, 'gold': 1940, 'pray': 3380, 'overcome': 3132, 'vinyl': 4781, 'rhapsody': 3734, 'caan': 599, 'higgins': 2107, 'danger': 1073, 'publisher': 3485, 'sean': 3892, 'justice': 2447, 'pickup': 3272, 'competition': 867, 'british': 543, 'legal': 2553, 'entertainment': 1487, 'dillon': 1217, 'dozen': 1312, 'para': 3175, 'expose': 1600, 'promising': 3456, 'smoke': 4076, 'generous': 1900, 'sequel': 3930, 'guilty': 2007, 'status': 4209, 'oops': 3081, 'aspire': 259, 'strangely': 4252, 'editor': 1402, 'dialog': 1196, 'unbelievably': 4646, 'kate': 2450, 'reaction': 3570, 'rough': 3785, 'curiosity': 1045, 'tension': 4420, 'executive': 1574, 'cliche': 789, 'guard': 2000, 'agent': 97, 'target': 4381, 'shoot': 3986, 'timing': 4505, 'wrestle': 4957, 'silent': 4011, 'jefferson': 2409, 'tired': 4511, 'extension': 1607, 'meeting': 2785, 'strain': 4249, 'spy': 4180, 'board': 472, 'cartoon': 649, 'heritage': 2096, 'pose': 3353, 'jacket': 2390, 'dust': 1364, 'harry': 2049, 'screenplay': 3881, 'shred': 3996, 'shall': 3960, 'uninspired': 4671, 'deadline': 1092, 'critical': 1022, 'eagle': 1371, 'sudden': 4301, 'saga': 3816, 'bernstein': 417, 'precede': 3384, 'nerve': 2972, 'irish': 2372, 'hack': 2017, 'stinker': 4232, 'schwartz': 3865, 'los': 2651, 'rabbit': 3527, 'ballroom': 333, 'vega': 4745, 'duke': 1354, 'shine': 3977, 'greatness': 1979, 'herb': 2095, 'precise': 3386, 'association': 266, 'plant': 3300, 'stream': 4257, 'scanner': 3848, 'vista': 4792, 'scan': 3847, 'firmware': 1727, 'jane': 2395, 'universe': 4678, 'scarlett': 3853, 'ridiculously': 3745, 'scarlet': 3852, 'hawthorne': 2058, 'underlying': 4651, 'huxley': 2197, 'vacation': 4729, 'puritan': 3497, 'confess': 900, 'physical': 3267, 'reccomend': 3592, 'auto': 298, 'dolby': 1289, 'mundane': 2921, 'allusion': 126, 'hester': 2101, 'needle': 2964, 'us': 4711, 'convey': 950, 'overrate': 3139, 'dickens': 1203, 'boredom': 494, 'fahrenheit': 1628, 'footnote': 1783, 'nonetheless': 3011, 'gripping': 1989, 'neat': 2959, 'essence': 1514, 'breathtaking': 529, 'navigate': 2953, 'ebook': 1390, 'nathaniel': 2946, 'strength': 4259, 'weakness': 4851, 'cop': 960, 'rigid': 3748, 'psychological': 3480, 'divorce': 1277, 'adultery': 72, 'punishment': 3491, 'reprint': 3691, 'confirm': 903, 'pretentious': 3408, 'era': 1505, 'mildly': 2830, 'hi': 2103, 'highschool': 2111, 'assignment': 264, 'captivating': 630, 'worse': 4945, 'aunt': 291, 'ugh': 4632, 'honor': 2146, 'wordy': 4936, 'empathize': 1449, 'tragedy': 4562, 'effectively': 1410, 'reccommend': 3593, 'mainly': 2698, 'historically': 2123, 'pill': 3279, 'timely': 4503, 'cliff': 793, 'robot': 3762, 'wasted': 4840, 'indeed': 2268, 'beg': 388, 'cease': 670, 'unfamiliar': 4662, 'dislike': 1255, 'empty': 1456, 'worst': 4947, 'overly': 3136, 'humanity': 2183, 'filler': 1704, 'cynical': 1060, 'vice': 4766, 'awhile': 315, 'assign': 263, 'cliched': 790, 'masterful': 2750, 'literary': 2620, 'rule': 3797, 'shell': 3971, 'belong': 405, 'electronic': 1422, 'formatting': 1795, 'cheat': 715, 'irritate': 2377, 'spirit': 4165, 'paperback': 3172, 'engross': 1475, 'flawless': 1745, 'guilt': 2006, 'irony': 2375, 'exceptional': 1562, 'fee': 1671, 'yawn': 4974, 'childish': 730, 'classify': 779, 'shadow': 3955, 'headache': 2063, 'jeff': 2408, 'ap': 204, 'hint': 2117, 'quote': 3524, 'significant': 4008, 'inability': 2248, 'revelation': 3723, 'fist': 1732, 'court': 987, 'unlikely': 4683, 'spider': 4159, 'pow': 3370, 'exceptionally': 1563, 'surprising': 4338, 'uninteresting': 4672, 'sucker': 4299, 'forth': 1799, 'sophomore': 4118, 'degree': 1133, 'grief': 1984, 'exam': 1551, 'freakin': 1825, 'afterwards': 94, 'reject': 3642, 'exposure': 1602, 'versus': 4758, 'construct': 923, 'noble': 3003, 'applicable': 215, 'ought': 3118, 'peel': 3223, 'wander': 4819, 'redemption': 3618, 'teenager': 4403, 'font': 1778, 'happens': 2034, 'victorian': 4768, 'sue': 4303, 'ignorance': 2210, 'okay': 3072, 'quiz': 3523, 'slowly': 4069, 'lightly': 2584, 'lock': 2634, 'attic': 280, 'mentally': 2800, 'sandra': 3829, 'peice': 3224, 'tempt': 4415, 'therapy': 4453, 'twisted': 4625, 'cure': 1043, 'insomnia': 2305, 'bloody': 463, 'junior': 2445, 'patient': 3207, 'rank': 3552, 'readily': 3574, 'october': 3055, 'luck': 2671, 'meaningful': 2770, 'ashamed': 251, 'harsh': 2050, 'sleeping': 4060, 'lap': 2507, 'stress': 4260, 'thier': 4460, 'taught': 4384, 'orwell': 3112, 'bradbury': 514, 'attack': 276, 'dare': 1076, 'oppression': 3092, 'superior': 4319, 'arthur': 242, 'visual': 4793, 'aid': 103, 'moore': 2888, 'poetic': 3323, 'cram': 996, 'extend': 1605, 'renew': 3676, 'pride': 3416, 'fest': 1688, 'favor': 1664, 'dreary': 1326, 'dreadful': 1324, 'aim': 104, 'miserably': 2850, 'numerous': 3037, 'composition': 881, 'determine': 1184, 'bush': 586, 'prison': 3427, 'seattle': 3896, 'rain': 3539, 'proof': 3461, 'suprised': 4328, 'senior': 3918, 'dual': 1344, 'meaning': 2769, 'tomato': 4523, 'anthony': 192, 'wilbur': 4896, 'ft': 1850, 'listing': 2617, 'cent': 680, 'suction': 4300, 'cleaning': 785, 'feed': 1672, 'feeding': 1675, 'compartment': 862, 'knife': 2474, 'tray': 4581, 'se': 3888, 'asia': 252, 'lao': 2506, 'august': 290, 'australian': 294, 'sloppy': 4066, 'functional': 1856, 'yep': 4981, 'meter': 2815, 'probe': 3434, 'convince': 951, 'atrocious': 274, 'wouldnt': 4953, 'kiss': 2470, 'jerry': 2413, 'lewis': 2570, 'depressing': 1161, 'holiday': 2133, 'cancel': 615, 'dissapointment': 1264, 'receipt': 3594, 'rude': 3794, 'discount': 1240, 'rack': 3531, 'pretend': 3407, 'bomb': 479, 'flop': 1758, 'simpson': 4022, 'drunk': 1341, 'whitney': 4884, 'allen': 124, 'crack': 994, 'santa': 3832, 'stuck': 4272, 'teeth': 4404, 'extent': 1609, 'billy': 430, 'remotely': 3671, 'annoying': 187, 'diehard': 1207, 'downright': 1309, 'stargate': 4200, 'signal': 4006, 'gas': 1887, 'pulse': 3487, 'flute': 1766, 'sax': 3843, 'storm': 4242, 'jones': 2430, 'quartet': 3508, 'william': 4899, 'dave': 1085, 'inappropriate': 2252, 'shut': 3998, 'duck': 1349, 'edward': 1406, 'rail': 3538, 'caring': 640, 'yer': 4982, 'flag': 1738, 'reasonable': 3587, 'elvis': 1436, 'deborah': 1099, 'drummer': 1340, 'le': 2534, 'spinout': 4164, 'king': 2468, 'diane': 1200, 'height': 2083, 'una': 4640, 'cinema': 758, 'redeeming': 3617, 'chase': 710, 'erotic': 1507, 'listenable': 2613, 'motion': 2899, 'properly': 3465, 'expire': 1593, 'assembly': 262, 'furniture': 1862, 'ebay': 1389, 'separately': 3928, 'shade': 3954, 'fortune': 1802, 'hardware': 2044, 'grind': 1986, 'crank': 997, 'grinder': 1987, 'operate': 3086, 'shoddy': 3984, 'brush': 556, 'jensen': 2411, 'pitch': 3289, 'accessible': 19, 'psychology': 3481, 'industry': 2278, 'intellectual': 2325, 'influential': 2284, 'teaching': 4391, 'fortunate': 1800, 'phd': 3253, 'document': 1282, 'fuzzy': 1867, 'unacceptable': 4642, 'unfortunate': 4665, 'fluff': 1763, 'breathe': 527, 'affect': 87, 'concern': 892, 'academy': 14, 'announce': 184, 'oscar': 3114, 'bible': 425, 'fifteen': 1695, 'journalist': 2432, 'minimal': 2842, 'hype': 2198, 'definite': 1125, 'metallica': 2813, 'garage': 1881, 'successfully': 4297, 'twenty': 4621, 'diagram': 1195, 'instructor': 2320, 'pursuit': 3501, 'scale': 3845, 'violet': 4784, 'purple': 3498, 'promptly': 3459, 'training': 4567, 'nervous': 2973, 'photography': 3264, 'louis': 2658, 'groove': 1992, 'adapt': 49, 'rhyme': 3735, 'cube': 1037, 'gadget': 1871, 'refill': 3624, 'lip': 2607, 'lunchbox': 2678, 'stain': 4189, 'crocodile': 1026, 'lunch': 2677, 'drink': 1330, 'soup': 4129, 'breath': 526, 'ban': 334, 'weave': 4856, 'temptation': 4416, 'closer': 801, 'perfection': 3236, 'evolve': 1547, 'descent': 1164, 'bum': 578, 'mediocre': 2782, 'mar': 2724, 'johnson': 2426, 'bland': 449, 'bash': 351, 'proud': 3474, 'biological': 436, 'wilson': 4902, 'lp': 2670, 'dated': 1083, 'howard': 2174, 'anne': 181, 'epic': 1497, 'starship': 4202, 'annie': 182, 'mtv': 2915, 'ann': 180, 'milk': 2833, 'career': 637, 'wolf': 4926, 'rockin': 3766, 'rocker': 3764, 'sorely': 4120, 'slave': 4057, 'mistress': 2859, 'truely': 4605, 'corny': 967, 'durability': 1362, 'magnificent': 2695, 'chopin': 740, 'complexity': 874, 'sonic': 4111, 'progressive': 3453, 'rhythm': 3736, 'spectrum': 4152, 'velcro': 4750, 'walker': 4815, 'albert': 116, 'collins': 827, 'sam': 3822, 'charlie': 706, 'hall': 2022, 'rage': 3536, 'jazzy': 2406, 'clock': 797, 'peanut': 3219, 'scripture': 3885, 'christ': 745, 'hd': 2060, 'sync': 4361, 'mouth': 2908, 'warner': 4828, 'whim': 4880, 'eve': 1527, 'quest': 3512, 'gang': 1879, 'broadcast': 545, 'blu': 465, 'ray': 3568, 'capacity': 624, 'appal': 208, 'retail': 3717, 'speaking': 4142, 'babe': 319, 'wise': 4916, 'eternal': 1523, 'charles': 705, 'crew': 1015, 'jesus': 2414, 'bless': 456, 'withstand': 4922, 'passage': 3195, 'crisp': 1020, 'deluxe': 1147, 'limitation': 2598, 'inclusion': 2258, 'gentle': 1904, 'speech': 4153, 'uneven': 4659, 'thankfully': 4443, 'specify': 4150, 'spec': 4144, 'min': 2837, 'couch': 976, 'soooo': 4116, 'widescreen': 4892, 'clay': 783, 'creation': 1007, 'upside': 4707, 'connect': 911, 'fifth': 1696, 'afford': 88, 'mattress': 2758, 'powerbook': 3372, 'adapter': 51, 'amp': 158, 'ibook': 2200, 'macally': 2684, 'charging': 704, 'ac': 12, 'apple': 214, 'cycle': 1059, 'fiddle': 1693, 'connection': 912, 'indicator': 2274, 'better': 421, 'fluke': 1764, 'generate': 1897, 'bargain': 345, 'brick': 534, 'handy': 2030, 'adaptor': 52, 'connector': 913, 'resume': 3716, 'sufficient': 4305, 'continuously': 936, 'firmly': 1726, 'prone': 3460, 'drawback': 1321, 'aluminum': 143, 'operation': 3087, 'buzz': 596, 'await': 307, 'request': 3693, 'initial': 2291, 'quiet': 3517, 'questionable': 3514, 'orange': 3097, 'airport': 109, 'weigh': 4864, 'affordable': 89, 'glance': 1924, 'electrical': 1421, 'budget': 565, 'sacrifice': 3810, 'th': 4439, 'following': 1775, 'transformer': 4570, 'idiot': 2208, 'satisfaction': 3835, 'backpack': 324, 'outer': 3123, 'suspect': 4346, 'disconnect': 1238, 'hassle': 2051, 'obtain': 3047, 'notify': 3027, 'resolve': 3701, 'usage': 4714, 'lemon': 2556, 'candy': 617, 'added': 54, 'oem': 3060, 'justify': 2448, 'lighting': 2583, 'unstable': 4692, 'pictured': 3275, 'um': 4638, 'temporary': 4414, 'compact': 857, 'missing': 2856, 'puppy': 3493, 'link': 2604, 'overprice': 3138, 'whine': 4882, 'shaft': 3956, 'odds': 3057, 'binchy': 432, 'fuss': 1864, 'discourage': 1241, 'silver': 4013, 'poignant': 3325, 'observation': 3045, 'anniversary': 183, 'teller': 4407, 'marvelous': 2742, 'nephew': 2971, 'artistic': 246, 'busy': 589, 'improvement': 2247, 'scissors': 3871, 'toddler': 4517, 'pin': 3282, 'bead': 373, 'sand': 3826, 'scifi': 3870, 'spiritual': 4166, 'dude': 1351, 'bathroom': 362, 'queensryche': 3511, 'booklet': 486, 'il': 2214, 'tempo': 4413, 'del': 1135, 'empire': 1454, 'dire': 1222, 'mike': 2828, 'un': 4639, 'west': 4869, 'pig': 3277, 'wine': 4907, 'por': 3344, 'en': 1457, 'ella': 1432, 'excelente': 1556, 'ma': 2682, 'brian': 533, 'rust': 3805, 'manufacture': 2720, 'poem': 3321, 'verse': 4756, 'leader': 2536, 'cannon': 618, 'expedition': 1585, 'river': 3756, 'fort': 1798, 'gun': 2011, 'trek': 4586, 'cambridge': 606, 'install': 2311, 'mount': 2905, 'resonate': 3702, 'mechanical': 2776, 'core': 964, 'corporation': 969, 'evident': 1542, 'traveler': 4579, 'scenery': 3858, 'odysseus': 3058, 'ulysses': 4637, 'infrared': 2289, 'vibrate': 4763, 'flashlight': 1741, 'bulb': 574, 'heating': 2077, 'lennon': 2561, 'unfair': 4661, 'occasional': 3051, 'eddie': 1397, 'horizon': 2154, 'latin': 2519, 'funk': 1859, 'texture': 4438, 'testament': 4435, 'circumstance': 763, 'aussie': 292, 'shower': 3995, 'creep': 1013, 'writen': 4959, 'technically': 4396, 'photograph': 3263, 'reunion': 3721, 'overdue': 3134, 'webb': 4858, 'dimension': 1218, 'glen': 1926, 'campbell': 612, 'moving': 2912, 'upbeat': 4697, 'dwarf': 1367, 'interpretation': 2345, 'stunning': 4279, 'organize': 3105, 'amish': 154, 'therapist': 4452, 'translate': 4572, 'confused': 908, 'platform': 3303, 'ego': 1413, 'commentary': 847, 'enthral': 1488, 'disgrace': 1248, 'remark': 3662, 'humble': 2184, 'cooker': 956, 'uplifting': 4702, 'importance': 2238, 'simplicity': 4019, 'quilt': 3518, 'sentiment': 3926, 'insightful': 2303, 'calm': 605, 'east': 1385, 'marine': 2729, 'closely': 800, 'leak': 2540, 'meal': 2767, 'locally': 2631, 'output': 3127, 'celtic': 675, 'wipe': 4912, 'chore': 742, 'spill': 4161, 'tried': 4593, 'bunny': 581, 'shaker': 3958, 'detect': 1182, 'chunk': 754, 'invasion': 2358, 'coherent': 817, 'burmese': 582, 'breed': 530, 'meat': 2775, 'chicken': 726, 'raw': 3567, 'characteristic': 700, 'beloved': 407, 'quantity': 3506, 'gorgeous': 1951, 'trace': 4557, 'enable': 1458, 'napoleon': 2940, 'biography': 435, 'differ': 1209, 'emperor': 1451, 'praise': 3378, 'criticize': 1024, 'memoir': 2794, 'lab': 2488, 'sinister': 4032, 'underground': 4650, 'ghost': 1912, 'setup': 3943, 'housing': 2172, 'nonsensical': 3015, 'rural': 3801, 'running': 3800, 'urban': 4709, 'spirituality': 4167, 'fifty': 1697, 'tore': 4536, 'catherine': 664, 'comfort': 838, 'cream': 1005, 'haunt': 2055, 'revisit': 3728, 'reissue': 3641, 'boys': 512, 'dishwasher': 1252, 'specification': 4149, 'headset': 2065, 'bluetooth': 468, 'motorola': 2904, 'wannabe': 4820, 'prepared': 3399, 'clip': 796, 'harmony': 2046, 'songwriter': 4110, 'camp': 610, 'inventory': 2361, 'taylor': 4386, 'boat': 473, 'pocket': 3320, 'arrange': 236, 'immortal': 2232, 'chill': 731, 'thrash': 4477, 'excellence': 1558, 'northern': 3020, 'dome': 1293, 'xmas': 4968, 'diameter': 1198, 'google': 1948, 'prep': 3396, 'density': 1153, 'lecture': 2548, 'brazil': 521, 'scope': 3873, 'companion': 858, 'experiment': 1590, 'tilt': 4498, 'adjustment': 64, 'opener': 3083, 'drill': 1329, 'paste': 3200, 'dolly': 1292, 'parton': 3191, 'sustain': 4349, 'delivers': 1143, 'sugar': 4306, 'independent': 2269, 'lend': 2557, 'unforgettable': 4664, 'fond': 1776, 'soar': 4085, 'lhasa': 2571, 'sings': 4031, 'wrench': 4956, 'kurt': 2485, 'intimate': 2349, 'diversity': 1275, 'originality': 3108, 'tango': 4377, 'ala': 112, 'subsequent': 4288, 'musicianship': 2928, 'modest': 2868, 'abroad': 4, 'spooky': 4173, 'knight': 2475, 'phillips': 3258, 'accurately': 30, 'audiobook': 288, 'accent': 15, 'climb': 795, 'elizabeth': 1431, 'loyalty': 2669, 'whats': 4874, 'sir': 4034, 'simon': 4016, 'laughter': 2523, 'mankind': 2715, 'bubble': 559, 'holy': 2139, 'casting': 655, 'standout': 4196, 'chat': 711, 'bolt': 478, 'route': 3787, 'india': 2271, 'sport': 4174, 'headphone': 2064, 'eidos': 1415, 'gameplay': 1876, 'tomb': 4524, 'raider': 3537, 'delay': 1136, 'lara': 2510, 'horrid': 2158, 'stall': 4192, 'blank': 450, 'ram': 3543, 'turkey': 4614, 'restart': 3711, 'unplayable': 4687, 'controller': 944, 'sensitive': 3921, 'fence': 1687, 'news': 2981, 'cutting': 1057, 'preview': 3411, 'franchise': 1816, 'depressed': 1160, 'playable': 3306, 'sticker': 4225, 'unusable': 4694, 'glitch': 1929, 'bat': 359, 'explosion': 1599, 'fighting': 1700, 'surroundings': 4343, 'resident': 3699, 'washer': 4835, 'deck': 1108, 'chemical': 720, 'chlorine': 735, 'network': 2975, 'retailer': 3718, 'disposable': 1260, 'motor': 2902, 'absent': 5, 'updated': 4700, 'impact': 2234, 'fishing': 1731, 'buggy': 570, 'relevance': 3651, 'desperate': 1175, 'forum': 1804, 'foreign': 1787, 'watson': 4846, 'desperately': 1176, 'succeed': 4294, 'merely': 2806, 'polish': 3331, 'erotica': 1508, 'inaccurate': 2250, 'realise': 3578, 'lust': 2679, 'devote': 1190, 'fragile': 1813, 'staple': 4197, 'sarah': 3833, 'devoid': 1189, 'backdrop': 322, 'wierd': 4894, 'fruit': 1845, 'wedge': 4861, 'dawn': 1087, 'leaf': 2538, 'oversized': 3142, 'clamp': 771, 'round': 3786, 'april': 223, 'ace': 31, 'buddhism': 562, 'inevitably': 2279, 'entirety': 1492, 'gifted': 1917, 'portfolio': 3348, 'notion': 3028, 'documentary': 1283, 'planning': 3299, 'vol': 4802, 'restore': 3714, 'shoulder': 3992, 'rope': 3781, 'escape': 1511, 'reverse': 3725, 'anchor': 166, 'logical': 2638, 'harder': 2042, 'limp': 2600, 'code': 815, 'brutal': 557, 'mayhem': 2763, 'vein': 4749, 'interface': 2339, 'army': 234, 'arch': 225, 'strategy': 4255, 'demo': 1150, 'terrain': 4424, 'expansion': 1582, 'few': 1689, 'notch': 3022, 'tribe': 4590, 'intro': 2353, 'partial': 3187, 'listens': 2616, 'deaf': 1093, 'reggae': 3633, 'alert': 119, 'cousin': 989, 'enjoyed': 1479, 'buddhist': 563, 'obnoxious': 3043, 'humorous': 2186, 'quirky': 3520, 'reread': 3695, 'tremendously': 4588, 'blessing': 457, 'tick': 4489, 'leadership': 2537, 'lace': 2492, 'strand': 4250, 'related': 3644, 'cage': 601, 'martin': 2740, 'discovery': 1243, 'belva': 409, 'consume': 925, 'stable': 4185, 'immensely': 2231, 'gerald': 1908, 'breakdown': 524, 'strictly': 4262, 'decorative': 1111, 'toss': 4539, 'bin': 431, 'golf': 1942, 'filter': 1707, 'unlock': 4685, 'roller': 3771, 'coaster': 811, 'bruce': 553, 'martial': 2739, 'relation': 3645, 'discipline': 1237, 'grey': 1983, 'melissa': 2789, 'undoubtedly': 4658, 'delete': 1137, 'blast': 452, 'virus': 4788, 'midi': 2825, 'countless': 981, 'component': 878, 'behave': 393, 'como': 856, 'examination': 1552, 'glue': 1934, 'accessory': 20, 'bow': 504, 'tad': 4368, 'indian': 2272, 'minus': 2846, 'intent': 2331, 'radiator': 3533, 'nickel': 2988, 'installation': 2312, 'comparison': 861, 'pan': 3167, 'lightness': 2585, 'nikon': 2996, 'usable': 4713, 'zoom': 4999, 'lens': 2562, 'disguise': 1249, 'hilditch': 2115, 'felicia': 1679, 'viewpoint': 4773, 'supplement': 4321, 'fi': 1690, 'faster': 1657, 'golden': 1941, 'coat': 812, 'pump': 3488, 'mug': 2918, 'liquid': 2609, 'thesis': 4458, 'monitor': 2876, 'adjustable': 63, 'crappy': 999, 'generic': 1899, 'refresh': 3627, 'marvel': 2741, 'ministry': 2843, 'newly': 2979, 'representation': 3690, 'violent': 4783, 'origin': 3106, 'picky': 3273, 'leather': 2546, 'alarm': 113, 'carbon': 633, 'vent': 4754, 'carpet': 643, 'ceiling': 672, 'pricey': 3415, 'approve': 222, 'curtain': 1050, 'emergency': 1443, 'dive': 1273, 'wisdom': 4915, 'neighbor': 2968, 'inspiring': 2309, 'journal': 2431, 'guidance': 2004, 'madonna': 2690, 'bored': 493, 'rose': 3783, 'dean': 1095, 'shout': 3993, 'whoever': 4885, 'watching': 4843, 'defect': 1118, 'valve': 4735, 'nipple': 3000, 'lane': 2504, 'launch': 2524, 'securely': 3903, 'subtitle': 4292, 'yoga': 4987, 'workbook': 4938, 'exhaust': 1576, 'tribute': 4591, 'riff': 3746, 'ironic': 2374, 'popcorn': 3341, 'expression': 1604, 'xanth': 4966, 'unreadable': 4689, 'zombie': 4998, 'dale': 1065, 'elevator': 1428, 'beatles': 378, 'asian': 253, 'pool': 3337, 'towel': 4552, 'coleman': 819, 'soviet': 4133, 'frightening': 1841, 'tightly': 4495, 'region': 3635, 'makeup': 2705, 'lesbian': 2563, 'consistent': 918, 'elastic': 1419, 'dot': 1302, 'tile': 4496, 'warmth': 4826, 'national': 2948, 'riddle': 3742, 'korean': 2483, 'vegetarian': 4747, 'cookbook': 955, 'pa': 3149, 'establish': 1517, 'nyc': 3040, 'briefly': 537, 'phenomenal': 3254, 'acknowledge': 34, 'diabetic': 1193, 'medication': 2780, 'diabetes': 1192, 'kudos': 2484, 'educate': 1403, 'peak': 3218, 'med': 2778, 'venus': 4755, 'identical': 2205, 'buff': 567, 'stalingrad': 4191, 'luftwaffe': 2674, 'argentine': 228, 'dancing': 1072, 'dancer': 1071, 'routine': 3789, 'ranger': 3551, 'february': 1670, 'schedule': 3860, 'excellant': 1557, 'dede': 1112, 'amuse': 159, 'described': 1166, 'bd': 370, 'boxset': 509, 'spiderman': 4160, 'extraordinary': 1613, 'samsung': 3824, 'xbox': 4967, 'russian': 3804, 'andrew': 169, 'bold': 477, 'mere': 2805, 'grainy': 1963, 'diamond': 1199, 'acid': 33, 'sympathy': 4360, 'wicca': 4888, 'invent': 2359, 'goddess': 1939, 'hutton': 2196, 'obscure': 3044, 'conduct': 899, 'firewire': 1724, 'september': 3929, 'ad': 47, 'tony': 4530, 'ending': 1463, 'lake': 2499, 'pitchshifter': 3290, 'industrial': 2277, 'manager': 2712, 'scotland': 3875, 'canada': 614, 'ra': 3525, 'awe': 312, 'egyptian': 1414, 'amateurish': 146, 'challenging': 692, 'rewrite': 3733, 'liberty': 2573, 'washing': 4836, 'monumental': 2884, 'cameron': 609, 'ljs': 2627, 'gillian': 1919, 'popularity': 3343, 'gary': 1886, 'creature': 1010, 'communist': 854, 'haiku': 2018, 'problematic': 3436, 'van': 4737, 'handbook': 2027, 'poet': 3322, 'kerouac': 2456, 'skeptical': 4046, 'mothman': 2898, 'prophecy': 3467, 'dubious': 1348, 'keel': 2452, 'ufo': 4631, 'phenomenon': 3255, 'disjoint': 1253, 'bogus': 476, 'sighting': 4004, 'albeit': 115, 'screenwriter': 3882, 'gordon': 1949, 'primarily': 3417, 'mighty': 2827, 'storytelling': 4247, 'letdown': 2567, 'controversial': 945, 'admittedly': 67, 'beast': 376, 'incident': 2255, 'london': 2642, 'parallel': 3179, 'incoherent': 2259, 'happening': 2033, 'scenario': 3856, 'goofy': 1947, 'stormy': 4243, 'monster': 2880, 'sincere': 4025, 'copyright': 962, 'outrage': 3128, 'innovative': 2297, 'racism': 3529, 'fighter': 1699, 'lene': 2558, 'analog': 162, 'replay': 3686, 'surrender': 4341, 'censorship': 679, 'anime': 178, 'kettle': 2457, 'suicide': 4309, 'math': 2755, 'newman': 2980, 'definitive': 1128, 'debate': 1098, 'nightwish': 2995, 'faithful': 1636, 'guardian': 2001, 'eva': 1526, 'bob': 474, 'thermometer': 4457, 'frequent': 1830, 'temp': 4409, 'hospital': 2164, 'tent': 4421, 'alice': 120, 'criticism': 1023, 'module': 2869, 'bdsm': 371, 'pre': 3382, 'maria': 2726, 'inadequate': 2251, 'emblem': 1442, 'snmp': 4081, 'lately': 2517, 'tooth': 4532, 'randomly': 3549, 'frankenstein': 1820, 'koontz': 2482, 'repetition': 3682, 'ally': 127, 'madman': 2688, 'madness': 2689, 'canon': 619, 'panasonic': 3168, 'rewind': 3732, 'posting': 3362, 'illumination': 2218, 'sixty': 4041, 'differently': 1212, 'nirvana': 3001, 'cobain': 813, 'hardcore': 2040, 'bean': 374, 'estate': 1518, 'courtney': 988, 'catalogue': 660, 'boxed': 508, 'yea': 4975, 'tho': 4468, 'recover': 3612, 'doug': 1305, 'vile': 4775, 'fitness': 1734, 'survival': 4344, 'hiking': 2113, 'drip': 1332, 'gritty': 1990, 'sci': 3866, 'lillian': 2595, 'dell': 1145, 'toxic': 4555, 'avenger': 303, 'troma': 4601, 'citizen': 765, 'poster': 3361, 'utter': 4727, 'router': 3788, 'discontinue': 1239, 'flush': 1765, 'carriage': 644, 'vitex': 4797, 'finance': 1711, 'eliminate': 1429, 'mild': 2829, 'acne': 35, 'moisturizer': 2870, 'facial': 1622, 'darker': 1078, 'touching': 4545, 'camping': 613, 'admire': 65, 'mario': 2730, 'exuviance': 1616, 'avail': 301, 'vibrator': 4765, 'heinlein': 2084, 'motivate': 2900, 'fare': 1650, 'depiction': 1158, 'realism': 3579, 'pursue': 3500, 'hardy': 2045, 'rape': 3555, 'alec': 118, 'valley': 4732, 'motherhood': 2897, 'telling': 4408, 'prediction': 3390, 'michigan': 2820, 'couldnt': 978, 'scare': 3850, 'heartbreaking': 2074, 'monotonous': 2879, 'confront': 905, 'bike': 428, 'carrier': 645, 'grandfather': 1968, 'viewing': 4772, 'bradley': 515, 'crawford': 1001, 'outdoor': 3122, 'satire': 3834, 'juliet': 2440, 'sleeper': 4059, 'dismiss': 1257, 'cinematography': 760, 'regime': 3634, 'paranoid': 3181, 'sky': 4052, 'hendrix': 2093, 'sf': 3953, 'employee': 1455, 'voyage': 4807, 'heater': 2076, 'chaos': 697, 'hopeful': 2151, 'pr': 3374, 'slot': 4067, 'greasy': 1976, 'postcard': 3360, 'mt': 2914, 'pilot': 3281, 'accident': 21, 'dumber': 1357, 'gossip': 1954, 'barn': 346, 'nobel': 3002, 'bay': 367, 'attend': 278, 'hike': 2112, 'maggie': 2692, 'dharma': 1191, 'bud': 561, 'fame': 1640, 'contemplate': 929, 'overrated': 3140, 'hp': 2176, 'theology': 4450, 'shia': 3974, 'megan': 2787, 'fox': 1811, 'actress': 44, 'he': 2061, 'labeouf': 2490, 'ben': 410, 'provider': 3477, 'ep': 1496, 'optimus': 3095, 'freak': 1824, 'bluray': 470, 'banal': 335, 'mentality': 2799, 'continuity': 935, 'nonexistent': 3012, 'browser': 552, 'cgi': 688, 'jar': 2399, 'remake': 3661, 'procedure': 3437, 'bullet': 577, 'alter': 137, 'slam': 4054, 'dts': 1343, 'stupidity': 4282, 'blockbuster': 460, 'branch': 517, 'gb': 1890, 'jackson': 2391, 'syndrome': 4362, 'theatrical': 4448, 'alpha': 133, 'ticket': 4490, 'hockey': 2128, 'cement': 676, 'destruction': 1179, 'bruckheimer': 554, 'tactic': 4367, 'cowboy': 992, 'helicopter': 2085, 'violin': 4785, 'specie': 4146, 'decline': 1109, 'ie': 2209, 'epson': 1499, 'compatibility': 863, 'rambo': 3547, 'wwe': 4963, 'cena': 677, 'patrick': 3209, 'cringe': 1018, 'security': 3904, 'hogan': 2129, 'terminator': 4423, 'intricate': 2350, 'hiss': 2120, 'emarker': 1439, 'playlist': 3310, 'emarks': 1440, 'execution': 1573, 'terrifying': 4429, 'censor': 678, 'gammell': 1878, 'ti': 4488, 'compromise': 886, 'gruesome': 1998, 'tame': 4376, 'horrify': 2160, 'helquist': 2090, 'scared': 3851, 'echo': 1392, 'aloud': 132, 'mythology': 2936, 'rice': 3737, 'bellydance': 404, 'atea': 271, 'privacy': 3429, 'brando': 519, 'altitude': 141, 'insole': 2304, 'trail': 4564, 'rugged': 3795, 'warmer': 4825, 'tongue': 4529, 'ralph': 3542, 'recognition': 3603, 'gabriel': 1870, 'cult': 1038, 'hound': 2169, 'ballet': 332, 'defense': 1121, 'predator': 3387, 'ryan': 3809, 'christopher': 750, 'officer': 3066, 'julie': 2439, 'silence': 4010, 'malfunction': 2708, 'douglas': 1306, 'genuine': 1906, 'brio': 542, 'sensor': 3922, 'automatic': 299, 'feeder': 1674, 'reset': 3698, 'manages': 2713, 'stewart': 4223, 'mellow': 2790, 'amnesia': 155, 'tubthumping': 4611, 'lightning': 2586, 'gal': 1873, 'pitiful': 3291, 'earthquake': 1382, 'laser': 2514, 'misplace': 2854, 'reminiscent': 3668, 'mule': 2919, 'gibson': 1915, 'oppose': 3090, 'seldon': 3911, 'isaac': 2378, 'spoiler': 4172, 'futuristic': 1866, 'defend': 1120, 'inaccuracy': 2249, 'unexpected': 4660, 'genesis': 1901, 'liking': 2592, 'wwi': 4964, 'hardback': 2039, 'carrot': 646, 'vacuum': 4730, 'sincerely': 4026, 'viking': 4774, 'addiction': 56, 'nick': 2987, 'cf': 687, 'dentist': 1154, 'batman': 363, 'guinea': 2008, 'phase': 3252, 'mesmerize': 2808, 'mccartney': 2765, 'removable': 3672, 'ritter': 3753, 'joyce': 2435, 'janet': 2396, 'gay': 1889, 'external': 1610, 'microphone': 2822, 'spear': 4143, 'catholic': 665, 'philosophical': 3259, 'portrait': 3350, 'recovery': 3613, 'cancer': 616, 'sensation': 3919, 'turtle': 4617, 'dystopian': 1369, 'stunt': 4280, 'dubbed': 1346, 'aerial': 84, 'racist': 3530, 'pal': 3163, 'invisible': 2365, 'shakespeare': 3959, 'robin': 3761, 'rainy': 3540, 'craze': 1003, 'crawl': 1002, 'harness': 2047, 'rashel': 3560, 'dominate': 1294, 'quinn': 3519, 'curie': 1044, 'prize': 3431, 'simpletech': 4018, 'mb': 2764, 'massacre': 2746, 'patti': 3211, 'evita': 1544, 'intex': 2348, 'inflate': 2282, 'airbed': 106, 'deflate': 1130, 'comforter': 841, 'lump': 2676, 'restock': 3713, 'xtra': 4970, 'flannel': 1739, 'fleetwood': 1748, 'rumour': 3798, 'mercedes': 2803, 'ford': 1786, 'passionate': 3198, 'cocktail': 814, 'jungle': 2444, 'oop': 3080, 'fonda': 1777, 'barbra': 342, 'rob': 3759, 'luke': 2675, 'mattel': 2756, 'kinsella': 2469, 'sophie': 4117, 'eby': 1391, 'romeo': 3777, 'spread': 4178, 'nurse': 3038, 'garcia': 1883, 'incest': 2253, 'elite': 1430, 'yello': 4979, 'steiner': 4215, 'inventive': 2360, 'shirley': 3981, 'homosexuality': 2142, 'manson': 2718, 'bugliosi': 571, 'helter': 2091, 'skelter': 4045, 'stoner': 4238, 'airplane': 108, 'dali': 1066, 'basement': 350, 'delonghi': 1146, 'ninety': 2999, 'batcave': 360, 'pci': 3216, 'clavell': 782, 'noni': 3013, 'nomad': 3008, 'recharge': 3600, 'earphone': 1379, 'knit': 2476, 'voodoo': 4805, 'nba': 2955, 'ritual': 3754, 'toefl': 4519, 'shift': 3975, 'civil': 767, 'earpiece': 1380, 'vegan': 4746, 'tina': 4507, 'wilderness': 4898, 'sd': 3887, 'sandisk': 3827, 'sansa': 3831, 'carnegie': 642, 'snack': 4079, 'advocate': 83, 'vincent': 4779, 'prosecutor': 3470, 'slasher': 4056, 'monk': 2877, 'collar': 822, 'dracula': 1314, 'flint': 1754, 'wireless': 4914, 'strauss': 4256, 'jabra': 2388, 'eargels': 1375, 'earbuds': 1373, 'jawbone': 2403, 'eargel': 1374, 'chuck': 752, 'clan': 772, 'swedish': 4352, 'assante': 260, 'odyssey': 3059, 'ian': 2199, 'misfortune': 2851, 'philadelphia': 3257, 'programmer': 3450, 'winston': 4910, 'moby': 2864, 'peck': 3221, 'ahab': 100, 'damme': 1068, 'flea': 1747, 'frank': 1818, 'lackey': 2494, 'venice': 4753, 'tuscan': 4618, 'tuscany': 4619, 'villa': 4776, 'communism': 853, 'rollerball': 3772, 'russell': 3803, 'pastor': 3201, 'megaman': 2786, 'chandler': 694, 'noir': 3005, 'scooter': 3872, 'pratchett': 3379, 'discworld': 1246, 'om': 3074, 'celiac': 673, 'gluten': 1935, 'amy': 161, 'usmle': 4722, 'anatomy': 165, 'freshman': 1833, 'dogg': 1288, 'gba': 1891, 'timothy': 4506, 'carter': 648, 'rebel': 3589, 'bowie': 505, 'holmes': 2137, 'confrontation': 906, 'sting': 4230, 'cummins': 1041, 'freud': 1834, 'organic': 3103, 'parable': 3176, 'joan': 2421, 'palance': 3164, 'souljah': 4125, 'fw': 1868, 'childbirth': 728, 'birthing': 440, 'sheri': 3972, 'lamaze': 2500, 'bayles': 368, 'argento': 229, 'statue': 4208, 'usher': 4721, 'auel': 289, 'ayla': 318, 'prehistoric': 3394, 'intellectually': 2326, 'neanderthal': 2956, 'lipstick': 2608, 'sega': 3909, 'gamecube': 1875, 'limerick': 2596, 'astrology': 269, 'antivirus': 195, 'femalien': 1685, 'unrated': 4688, 'flyboys': 1768, 'lafayette': 2498, 'escadrille': 1510, 'dogfight': 1287, 'judith': 2437, 'hostel': 2166, 'bleak': 453, 'paced': 3151, 'bebel': 382, 'everest': 1533, 'gammelgaard': 1877, 'elmo': 1433, 'firefighter': 1721, 'csi': 1036, 'frm': 1842, 'garp': 1885, 'enrich': 1483, 'oceania': 3054, 'forbidden': 1784, 'totalitarian': 4541, 'newspeak': 2983, 'totalitarianism': 4542, 'fundamentalist': 1858, 'concealer': 889, 'huppert': 2192, 'zeta': 4996, 'rosalind': 3782, 'montag': 2881, 'clarisse': 773, 'fireman': 1722, 'farenheit': 1651, 'piper': 3286, 'fellowship': 1682, 'moria': 2891, 'rivendell': 3755, 'ati': 272, 'radeon': 3532, 'emily': 1444, 'pam': 3166, 'finnegans': 1719, 'finnegan': 1718, 'lapinator': 2508, 'hatebreed': 2054, 'halti': 2024, 'continuum': 937, 'musiq': 2929, 'lola': 2641, 'franka': 1819, 'tism': 4512, 'ziggy': 4997, 'stardust': 4199, 'nickelodeon': 2989, 'knot': 2478, 'liam': 2572, 'owen': 3146, 'neeson': 2966, 'lili': 2594, 'asvab': 270, 'goodman': 1945, 'cedar': 671, 'florette': 1759, 'manon': 2717, 'apache': 205, 'marquez': 2735, 'oprah': 3093, 'buendia': 566, 'macondo': 2686, 'papua': 3173, 'java': 2401, 'canterbury': 621, 'chaucer': 712, 'pellegrino': 3225, 'coyote': 993, 'perabo': 3233, 'redgrave': 3619, 'warnes': 4829, 'ronson': 3778, 'tomcat': 4525, 'fraser': 1822, 'mckellen': 2766, 'brendan': 532, 'buffalo': 568, 'mosby': 2894, 'stacie': 4186, 'orrico': 3111, 'christina': 747, 'ry': 3808, 'cooder': 953, 'carlton': 641, 'hopkins': 2153, 'lovebird': 2662, 'linksys': 2605, 'basset': 358, 'baskerville': 355, 'doyle': 1311, 'sherlock': 3973, 'baskervilles': 356, 'marlon': 2734, 'donati': 1297, 'claustrophobic': 781}\n"
     ]
    }
   ],
   "source": [
    "print(Tfidf_vect.vocabulary_)   #查看此模型中從語料庫中，學習到的詞彙"
   ]
  },
  {
   "cell_type": "code",
   "execution_count": 18,
   "metadata": {},
   "outputs": [
    {
     "name": "stdout",
     "output_type": "stream",
     "text": [
      "  (0, 4502)\t0.37634188677099956\n",
      "  (0, 4501)\t0.1502086671688917\n",
      "  (0, 3983)\t0.35870975205557054\n",
      "  (0, 3897)\t0.25152943577361386\n",
      "  (0, 3864)\t0.2690840463105974\n",
      "  (0, 3750)\t0.3469774999759746\n",
      "  (0, 3665)\t0.28971770688512954\n",
      "  (0, 3571)\t0.29440491517773787\n",
      "  (0, 2931)\t0.22969709983777647\n",
      "  (0, 1944)\t0.13398240399394393\n",
      "  (0, 1528)\t0.17762585383071805\n",
      "  (0, 514)\t0.3210759641783664\n",
      "  (0, 485)\t0.1230432680090133\n",
      "  (0, 235)\t0.24487094004433968\n",
      "  (1, 4694)\t0.36974013511943044\n",
      "  (1, 4073)\t0.6167222431544791\n",
      "  (1, 3441)\t0.367922932130556\n",
      "  (1, 2588)\t0.3755181501193181\n",
      "  (1, 1250)\t0.3587203442870721\n",
      "  (1, 593)\t0.27907786873623097\n",
      "  (2, 4741)\t0.18369761701331289\n",
      "  (2, 4627)\t0.1499525624356807\n",
      "  (2, 4463)\t0.10285168719742008\n",
      "  (2, 4198)\t0.11682860303877614\n",
      "  (2, 3856)\t0.23042292688427712\n",
      "  :\t:\n",
      "  (6998, 2566)\t0.12648150924495427\n",
      "  (6998, 2515)\t0.11841716778929348\n",
      "  (6998, 2124)\t0.14040672300699006\n",
      "  (6998, 1977)\t0.0732676023027426\n",
      "  (6998, 1791)\t0.22643036986644238\n",
      "  (6998, 1755)\t0.2050525986673158\n",
      "  (6998, 1717)\t0.13895397190062708\n",
      "  (6998, 1588)\t0.13908307198068634\n",
      "  (6998, 1571)\t0.19050050800153656\n",
      "  (6998, 1537)\t0.13769364637782963\n",
      "  (6998, 1532)\t0.10172162281347562\n",
      "  (6998, 1298)\t0.30418129540391586\n",
      "  (6998, 485)\t0.37222281099117477\n",
      "  (6999, 4868)\t0.1615538268993951\n",
      "  (6999, 4145)\t0.5214461393910488\n",
      "  (6999, 3828)\t0.3650731929929058\n",
      "  (6999, 2911)\t0.16564844130065914\n",
      "  (6999, 2703)\t0.14616444893293323\n",
      "  (6999, 1977)\t0.14151361646369673\n",
      "  (6999, 1669)\t0.28181666642579095\n",
      "  (6999, 1528)\t0.1729761814925566\n",
      "  (6999, 1401)\t0.2878202089401581\n",
      "  (6999, 1236)\t0.3143423818550559\n",
      "  (6999, 313)\t0.28507220106647935\n",
      "  (6999, 48)\t0.357249400615048\n"
     ]
    }
   ],
   "source": [
    "print(Train_X_Tfidf)   #向量化後的數據\n",
    "'''\n",
    "舉例: (0,4502)  0.37634188677099956\n",
    "\n",
    "0: 代表是Train_X_Tfidf 的第一列資料\n",
    "4502: 表示第一列中每個單字的唯一整數編號\n",
    "0.37 :表示通過 TF-IDF Vectorizer 計算的分數\n",
    "'''"
   ]
  },
  {
   "attachments": {},
   "cell_type": "markdown",
   "metadata": {},
   "source": [
    "# STEP -8: Use the ML Algorithms to Predict the outcome"
   ]
  },
  {
   "attachments": {},
   "cell_type": "markdown",
   "metadata": {},
   "source": [
    "X :  Train、Test X將句子轉換為TF-IDF 特徵向量\n",
    "\n",
    "Y :  Train、Test y將label轉為數值去進行編碼"
   ]
  },
  {
   "cell_type": "code",
   "execution_count": 19,
   "metadata": {},
   "outputs": [
    {
     "name": "stdout",
     "output_type": "stream",
     "text": [
      "Naive Bayes Accuracy Score ->  83.16666666666667\n"
     ]
    }
   ],
   "source": [
    "# fit the training dataset on the NB classifier\n",
    "Naive = naive_bayes.MultinomialNB()\n",
    "Naive.fit(Train_X_Tfidf,Train_Y)    #將訓練集資料餵入模型訓練\n",
    "# predict the labels on validation dataset\n",
    "predictions_NB = Naive.predict(Test_X_Tfidf)  #將訓練好的模型拿來預測測試集的X\n",
    "# Use accuracy_score function to get the accuracy\n",
    "print(\"Naive Bayes Accuracy Score -> \",accuracy_score(predictions_NB, Test_Y)*100)  #將預測值與實際標籤進行比對，並計算出預測準確的樣本佔總樣本數的比例"
   ]
  },
  {
   "cell_type": "code",
   "execution_count": 20,
   "metadata": {},
   "outputs": [
    {
     "name": "stdout",
     "output_type": "stream",
     "text": [
      "SVM Accuracy Score ->  84.8\n"
     ]
    }
   ],
   "source": [
    "# Classifier - Algorithm - SVM\n",
    "# fit the training dataset on the classifier\n",
    "SVM = svm.SVC(C=1.0, kernel='linear', degree=3, gamma='auto')  # c: 懲罰參數，Penalty Parameter，參數控制著分類器的正規化（regularization）程度\n",
    "SVM.fit(Train_X_Tfidf,Train_Y)\n",
    "# predict the labels on validation dataset\n",
    "predictions_SVM = SVM.predict(Test_X_Tfidf)\n",
    "# Use accuracy_score function to get the accuracy\n",
    "print(\"SVM Accuracy Score -> \",accuracy_score(predictions_SVM, Test_Y)*100)"
   ]
  },
  {
   "cell_type": "code",
   "execution_count": null,
   "metadata": {},
   "outputs": [],
   "source": []
  }
 ],
 "metadata": {
  "kernelspec": {
   "display_name": "Python 3",
   "language": "python",
   "name": "python3"
  },
  "language_info": {
   "codemirror_mode": {
    "name": "ipython",
    "version": 3
   },
   "file_extension": ".py",
   "mimetype": "text/x-python",
   "name": "python",
   "nbconvert_exporter": "python",
   "pygments_lexer": "ipython3",
   "version": "3.8.10"
  },
  "orig_nbformat": 4
 },
 "nbformat": 4,
 "nbformat_minor": 2
}
